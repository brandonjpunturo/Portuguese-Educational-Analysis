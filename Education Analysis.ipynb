{
 "cells": [
  {
   "cell_type": "markdown",
   "metadata": {},
   "source": [
    "# Education Analysis in Portugal\n",
    "# Students enrolled in a Portuguese and Math Class."
   ]
  },
  {
   "cell_type": "markdown",
   "metadata": {},
   "source": [
    "## Skills Shown:\n",
    "> <font color='red'> Machine Learning-Regression & Classification </font> <br>\n",
    "> <font color='blue'>  Data Visualization </font> <br>\n",
    "> <font color='green'> Dimensionality Reduction </font> <br>"
   ]
  },
  {
   "cell_type": "markdown",
   "metadata": {},
   "source": [
    "# Introduction:\n",
    "I have long held an interest in education. In fact, I will be working in the education realm\n",
    "this summer. One of the most important aspects of education is improving assessment scores\n",
    "and final grades. It is a particularly tricky task, as students differ along so many characteristics.\n",
    "The particular datasets that I decided to analyze tried to approach\n",
    "achievement for Portuguese students at a secondary education level. There were two datasets I\n",
    "looked at. The first corresponded to students in a Portuguese class and the other corresponded to\n",
    "those in a math class. A lot of my questions revolved around the G3 (Final Grade) variable\n",
    "present in both, as it is usually considered the most important variable in education assessment. I\n",
    "was also curious if I could cluster students because perhaps it was possible that these clusters\n",
    "learn differently in the classroom. Finally, I aimed to see if I could predict the “famsup” (Family\n",
    "Education Support) variable using a classification algorithm. If an individual does not have\n",
    "family support for his/her education, it is likely they are not putting an optimal amount of effort\n",
    "into school."
   ]
  },
  {
   "cell_type": "markdown",
   "metadata": {},
   "source": [
    "Questions I asked:<br>\n",
    "1.How does the distribution of finals grades for the math class compare to the final grades of the\n",
    "Portuguese class?<br>\n",
    " 2.What variables are highly positively/negatively correlated for final grades in the math class and Portuguese class?<br>\n",
    " 3.Can I use a Linear Regression model to predict G3 scores for both classes? <br>\n",
    " 4.Do students who drink heavily class on the weekend get worse final grades than\n",
    " those who do not drink at all on the weekend? <br>\n",
    "5.Can students in the math class be clustered into groups? <br>\n",
    " 6.Can I create a classification model to predict family support for students in the Portuguese\n",
    "class?<br>"
   ]
  },
  {
   "cell_type": "markdown",
   "metadata": {},
   "source": [
    "## Data Sources: <br>\n",
    "The two datasets I used were acquired from the UCI Machine Learning repository\n",
    "(https://archive.ics.uci.edu/ml/datasets/student+performance). <br>\n",
    "There were 33 different variablesin both datasets with 650 subjects in both. The most important variables in both datasets were:<br>\n",
    "G1 - first period grade (numeric: from 0 to 20)<br>\n",
    "G2 - second period grade (numeric: from 0 to 20)<br>\n",
    "G3 - final grade (numeric: from 0 to 20, output target)<br>\n",
    "Dalc - workday alcohol consumption (numeric: from 1 - very low to 5 - very high)<br> \n",
    "Walc - weekend alcohol consumption (numeric: from 1 - very low to 5 - very high)<br>\n",
    "famsup - family educational support (binary: yes or no)<br>\n",
    "Medu - mother's education (numeric: 0 - none, 1 - primary education (4th grade), 2 - 5th to 9th\n",
    "grade, 3 - secondary education or 4 - higher education) "
   ]
  },
  {
   "cell_type": "markdown",
   "metadata": {},
   "source": [
    "### Importing the necessary libraries"
   ]
  },
  {
   "cell_type": "code",
   "execution_count": 2,
   "metadata": {},
   "outputs": [],
   "source": [
    "\n",
    "import pandas as pd\n",
    "import numpy as np\n",
    "import seaborn as sns\n",
    "from scipy import stats\n",
    "import statsmodels.api as sm\n",
    "import statsmodels.formula.api as smf\n",
    "import sklearn.decomposition as skd\n",
    "import sklearn.preprocessing as skp\n",
    "import matplotlib.pyplot as plt\n",
    "import scipy.cluster.hierarchy as sph\n",
    "import scipy.spatial.distance as spd\n",
    "from sklearn.cluster import KMeans\n",
    "from sklearn.metrics import silhouette_samples, silhouette_score\n",
    "import matplotlib.cm as cm\n",
    "import sklearn.cluster as skc\n",
    "import sklearn.ensemble as skens\n",
    "import sklearn.metrics as skmetric\n",
    "from sklearn.metrics import confusion_matrix\n",
    "import sklearn.naive_bayes as sknb\n",
    "from sklearn.linear_model import LogisticRegression\n",
    "from sklearn.model_selection import cross_val_score\n",
    "from IPython.core.display import HTML"
   ]
  },
  {
   "cell_type": "code",
   "execution_count": 3,
   "metadata": {},
   "outputs": [],
   "source": [
    "#Reading in the datasets\n",
    "math_class=pd.read_csv(\"student-mat.csv\")\n",
    "port_class=pd.read_csv(\"student-por.csv\")"
   ]
  },
  {
   "cell_type": "markdown",
   "metadata": {},
   "source": [
    "# Question 1: How does the distribution of finals grades for the math class compare to the final grades of the Portuguese class?"
   ]
  },
  {
   "cell_type": "markdown",
   "metadata": {},
   "source": [
    "### Conclusion: As you will see from my code, on average, students do better in the Portuguese class. This is further indicated by the histogram which shows the histogram of G3 values to be left-skewed. Both distributions are not normally distributed according to QQ plots. \n",
    "I found that ,on average, students get around a 10.4 in the math class and a 11.9 in the\n",
    "Portuguese class (out of 20). Similarly, median and mode are both higher for final Portuguese\n",
    "class grades.\n",
    "The distributions are similar in that they are both not normal. However, G3 scores for the\n",
    "Portuguese Class are definitely more left skewed (That graph is below).\n",
    "Implications:\n",
    "Students do better, on average, in the Portuguese class. I would not consider either group to have\n",
    "normally distributed data.</font>"
   ]
  },
  {
   "cell_type": "code",
   "execution_count": 4,
   "metadata": {},
   "outputs": [
    {
     "data": {
      "text/html": [
       "<div>\n",
       "<style scoped>\n",
       "    .dataframe tbody tr th:only-of-type {\n",
       "        vertical-align: middle;\n",
       "    }\n",
       "\n",
       "    .dataframe tbody tr th {\n",
       "        vertical-align: top;\n",
       "    }\n",
       "\n",
       "    .dataframe thead th {\n",
       "        text-align: right;\n",
       "    }\n",
       "</style>\n",
       "<table border=\"1\" class=\"dataframe\">\n",
       "  <thead>\n",
       "    <tr style=\"text-align: right;\">\n",
       "      <th></th>\n",
       "      <th>school</th>\n",
       "      <th>sex</th>\n",
       "      <th>age</th>\n",
       "      <th>address</th>\n",
       "      <th>famsize</th>\n",
       "      <th>Pstatus</th>\n",
       "      <th>Medu</th>\n",
       "      <th>Fedu</th>\n",
       "      <th>Mjob</th>\n",
       "      <th>Fjob</th>\n",
       "      <th>...</th>\n",
       "      <th>famrel</th>\n",
       "      <th>freetime</th>\n",
       "      <th>goout</th>\n",
       "      <th>Dalc</th>\n",
       "      <th>Walc</th>\n",
       "      <th>health</th>\n",
       "      <th>absences</th>\n",
       "      <th>G1</th>\n",
       "      <th>G2</th>\n",
       "      <th>G3</th>\n",
       "    </tr>\n",
       "  </thead>\n",
       "  <tbody>\n",
       "    <tr>\n",
       "      <th>0</th>\n",
       "      <td>GP</td>\n",
       "      <td>F</td>\n",
       "      <td>18</td>\n",
       "      <td>U</td>\n",
       "      <td>GT3</td>\n",
       "      <td>A</td>\n",
       "      <td>4</td>\n",
       "      <td>4</td>\n",
       "      <td>at_home</td>\n",
       "      <td>teacher</td>\n",
       "      <td>...</td>\n",
       "      <td>4</td>\n",
       "      <td>3</td>\n",
       "      <td>4</td>\n",
       "      <td>1</td>\n",
       "      <td>1</td>\n",
       "      <td>3</td>\n",
       "      <td>4</td>\n",
       "      <td>0</td>\n",
       "      <td>11</td>\n",
       "      <td>11</td>\n",
       "    </tr>\n",
       "    <tr>\n",
       "      <th>1</th>\n",
       "      <td>GP</td>\n",
       "      <td>F</td>\n",
       "      <td>17</td>\n",
       "      <td>U</td>\n",
       "      <td>GT3</td>\n",
       "      <td>T</td>\n",
       "      <td>1</td>\n",
       "      <td>1</td>\n",
       "      <td>at_home</td>\n",
       "      <td>other</td>\n",
       "      <td>...</td>\n",
       "      <td>5</td>\n",
       "      <td>3</td>\n",
       "      <td>3</td>\n",
       "      <td>1</td>\n",
       "      <td>1</td>\n",
       "      <td>3</td>\n",
       "      <td>2</td>\n",
       "      <td>9</td>\n",
       "      <td>11</td>\n",
       "      <td>11</td>\n",
       "    </tr>\n",
       "    <tr>\n",
       "      <th>2</th>\n",
       "      <td>GP</td>\n",
       "      <td>F</td>\n",
       "      <td>15</td>\n",
       "      <td>U</td>\n",
       "      <td>LE3</td>\n",
       "      <td>T</td>\n",
       "      <td>1</td>\n",
       "      <td>1</td>\n",
       "      <td>at_home</td>\n",
       "      <td>other</td>\n",
       "      <td>...</td>\n",
       "      <td>4</td>\n",
       "      <td>3</td>\n",
       "      <td>2</td>\n",
       "      <td>2</td>\n",
       "      <td>3</td>\n",
       "      <td>3</td>\n",
       "      <td>6</td>\n",
       "      <td>12</td>\n",
       "      <td>13</td>\n",
       "      <td>12</td>\n",
       "    </tr>\n",
       "    <tr>\n",
       "      <th>3</th>\n",
       "      <td>GP</td>\n",
       "      <td>F</td>\n",
       "      <td>15</td>\n",
       "      <td>U</td>\n",
       "      <td>GT3</td>\n",
       "      <td>T</td>\n",
       "      <td>4</td>\n",
       "      <td>2</td>\n",
       "      <td>health</td>\n",
       "      <td>services</td>\n",
       "      <td>...</td>\n",
       "      <td>3</td>\n",
       "      <td>2</td>\n",
       "      <td>2</td>\n",
       "      <td>1</td>\n",
       "      <td>1</td>\n",
       "      <td>5</td>\n",
       "      <td>0</td>\n",
       "      <td>14</td>\n",
       "      <td>14</td>\n",
       "      <td>14</td>\n",
       "    </tr>\n",
       "    <tr>\n",
       "      <th>4</th>\n",
       "      <td>GP</td>\n",
       "      <td>F</td>\n",
       "      <td>16</td>\n",
       "      <td>U</td>\n",
       "      <td>GT3</td>\n",
       "      <td>T</td>\n",
       "      <td>3</td>\n",
       "      <td>3</td>\n",
       "      <td>other</td>\n",
       "      <td>other</td>\n",
       "      <td>...</td>\n",
       "      <td>4</td>\n",
       "      <td>3</td>\n",
       "      <td>2</td>\n",
       "      <td>1</td>\n",
       "      <td>2</td>\n",
       "      <td>5</td>\n",
       "      <td>0</td>\n",
       "      <td>11</td>\n",
       "      <td>13</td>\n",
       "      <td>13</td>\n",
       "    </tr>\n",
       "  </tbody>\n",
       "</table>\n",
       "<p>5 rows × 33 columns</p>\n",
       "</div>"
      ],
      "text/plain": [
       "  school sex  age address famsize Pstatus  Medu  Fedu     Mjob      Fjob ...  \\\n",
       "0     GP   F   18       U     GT3       A     4     4  at_home   teacher ...   \n",
       "1     GP   F   17       U     GT3       T     1     1  at_home     other ...   \n",
       "2     GP   F   15       U     LE3       T     1     1  at_home     other ...   \n",
       "3     GP   F   15       U     GT3       T     4     2   health  services ...   \n",
       "4     GP   F   16       U     GT3       T     3     3    other     other ...   \n",
       "\n",
       "  famrel freetime  goout  Dalc  Walc health absences  G1  G2  G3  \n",
       "0      4        3      4     1     1      3        4   0  11  11  \n",
       "1      5        3      3     1     1      3        2   9  11  11  \n",
       "2      4        3      2     2     3      3        6  12  13  12  \n",
       "3      3        2      2     1     1      5        0  14  14  14  \n",
       "4      4        3      2     1     2      5        0  11  13  13  \n",
       "\n",
       "[5 rows x 33 columns]"
      ]
     },
     "execution_count": 4,
     "metadata": {},
     "output_type": "execute_result"
    }
   ],
   "source": [
    "#Taking a peak at the data\n",
    "port_class.head()"
   ]
  },
  {
   "cell_type": "code",
   "execution_count": 5,
   "metadata": {},
   "outputs": [
    {
     "name": "stdout",
     "output_type": "stream",
     "text": [
      "The mean final grade in the math class was 10.415189873417722\n",
      "The median final grade in the math class was 11.0\n",
      "The mode final grade in the math class was ModeResult(mode=array([10]), count=array([56]))\n"
     ]
    }
   ],
   "source": [
    "# Mean, Median, and Mode of Math Class Final Grade\n",
    "print(\"The mean final grade in the math class was {}\".format(np.mean(math_class[\"G3\"])))\n",
    "print(\"The median final grade in the math class was {}\".format(np.median(math_class[\"G3\"])))\n",
    "print(\"The mode final grade in the math class was {}\".format(stats.mode(math_class[\"G3\"])))"
   ]
  },
  {
   "cell_type": "code",
   "execution_count": 6,
   "metadata": {},
   "outputs": [
    {
     "data": {
      "text/plain": [
       "<matplotlib.text.Text at 0x116111be0>"
      ]
     },
     "execution_count": 6,
     "metadata": {},
     "output_type": "execute_result"
    },
    {
     "data": {
      "image/png": "[encoded data removed]",
      "text/plain": [
       "<matplotlib.figure.Figure at 0x1160cef98>"
      ]
     },
     "metadata": {},
     "output_type": "display_data"
    }
   ],
   "source": [
    "# Histogram\n",
    "sns.distplot(math_class[\"G3\"],kde=False,color=\"blue\").set_title(\"G3 Distribution for Math Class\")"
   ]
  },
  {
   "cell_type": "code",
   "execution_count": 7,
   "metadata": {},
   "outputs": [
    {
     "data": {
      "text/plain": [
       "<matplotlib.text.Text at 0x1161a92b0>"
      ]
     },
     "execution_count": 7,
     "metadata": {},
     "output_type": "execute_result"
    },
    {
     "data": {
      "image/png": "[encoded data removed]",
      "text/plain": [
       "<matplotlib.figure.Figure at 0x10d841048>"
      ]
     },
     "metadata": {},
     "output_type": "display_data"
    }
   ],
   "source": [
    "## QQ Plot For Math Scores\n",
    "x,y=stats.probplot(math_class[\"G3\"],fit=False)\n",
    "sns.regplot(x,y,color=\"blue\").set_title(\"QQ Plot for Math G3 Scores\")"
   ]
  },
  {
   "cell_type": "code",
   "execution_count": 8,
   "metadata": {},
   "outputs": [
    {
     "name": "stdout",
     "output_type": "stream",
     "text": [
      "The mean final grade in the Portuguese class was 11.906009244992296\n",
      "The median final grade in the Portuguese class was 12.0\n",
      "The mode final grade in the Portuguese class was ModeResult(mode=array([11]), count=array([104]))\n"
     ]
    }
   ],
   "source": [
    "# Mean, median and Mode of Final Grade in Portuguese Class\n",
    "print(\"The mean final grade in the Portuguese class was {}\".format(np.mean(port_class[\"G3\"])))\n",
    "print(\"The median final grade in the Portuguese class was {}\".format(np.median(port_class[\"G3\"])))\n",
    "print(\"The mode final grade in the Portuguese class was {}\".format(stats.mode(port_class[\"G3\"])))"
   ]
  },
  {
   "cell_type": "code",
   "execution_count": 9,
   "metadata": {},
   "outputs": [
    {
     "data": {
      "text/plain": [
       "<matplotlib.text.Text at 0x1160413c8>"
      ]
     },
     "execution_count": 9,
     "metadata": {},
     "output_type": "execute_result"
    },
    {
     "data": {
      "image/png": "[encoded data removed]",
      "text/plain": [
       "<matplotlib.figure.Figure at 0x116267668>"
      ]
     },
     "metadata": {},
     "output_type": "display_data"
    }
   ],
   "source": [
    "# Histogram of Final Grades for Portuguese Class\n",
    "ax=sns.distplot(port_class[\"G3\"],color=\"red\",kde=False)\n",
    "ax.set_title(\"G3 Distribution for Portuguese Class\")\n",
    "ax.set_ylabel(\"Count\")\n",
    "ax.set_xlabel(\"G3\")"
   ]
  },
  {
   "cell_type": "code",
   "execution_count": 10,
   "metadata": {},
   "outputs": [
    {
     "data": {
      "text/plain": [
       "<matplotlib.text.Text at 0x116d09ac8>"
      ]
     },
     "execution_count": 10,
     "metadata": {},
     "output_type": "execute_result"
    },
    {
     "data": {
      "image/png": "[encoded data removed]",
      "text/plain": [
       "<matplotlib.figure.Figure at 0x116cc6ba8>"
      ]
     },
     "metadata": {},
     "output_type": "display_data"
    }
   ],
   "source": [
    "x,y=stats.probplot(port_class[\"G3\"],fit=False)\n",
    "sns.regplot(x,y,color=\"red\").set_title(\"QQ Plot for Portuguese G3 Scores\")"
   ]
  },
  {
   "cell_type": "markdown",
   "metadata": {},
   "source": [
    "# Question 2: What variables are highly positively/negatively correlated for final grades in the math class and Portuguese class?"
   ]
  },
  {
   "cell_type": "markdown",
   "metadata": {},
   "source": [
    "### Conclusion: In the following section I ran correlation matrixes for both datasets. After sorting values in descending order, I found that for the most part, both G3 variables have a very similar order of variables that are highly/negatively correlated. G2, G1, and Medu are both extremely positively correlated for both, while failures are highly negatively correlated for both."
   ]
  },
  {
   "cell_type": "code",
   "execution_count": 11,
   "metadata": {},
   "outputs": [
    {
     "data": {
      "text/plain": [
       "G3            1.000000\n",
       "G2            0.957125\n",
       "G1            0.878001\n",
       "Medu          0.225036\n",
       "Fedu          0.170049\n",
       "studytime     0.105170\n",
       "famrel        0.054977\n",
       "absences      0.017731\n",
       "freetime     -0.004994\n",
       "health       -0.047790\n",
       "Walc         -0.104459\n",
       "traveltime   -0.120530\n",
       "Dalc         -0.120944\n",
       "goout        -0.166119\n",
       "age          -0.173438\n",
       "failures     -0.361224\n",
       "Name: G3, dtype: float64"
      ]
     },
     "execution_count": 11,
     "metadata": {},
     "output_type": "execute_result"
    }
   ],
   "source": [
    "# Seeing what variables correlate most positively/negatively with G3 for math class\n",
    "#Used Spearman because not all data is normally distributed\n",
    "math_class.corr(method=\"spearman\").sort_values(by=\"G3\",ascending=False)[\"G3\"]"
   ]
  },
  {
   "cell_type": "code",
   "execution_count": 12,
   "metadata": {},
   "outputs": [
    {
     "data": {
      "image/png": "[encoded data removed]",
      "text/plain": [
       "<matplotlib.figure.Figure at 0x116db7ac8>"
      ]
     },
     "metadata": {},
     "output_type": "display_data"
    }
   ],
   "source": [
    "#Creating a heatmap\n",
    "ax = plt.axes()\n",
    "\n",
    "sns.heatmap(math_class.corr(), ax=ax)\n",
    "ax.set_title('Math Class Correlations')\n",
    "plt.show()"
   ]
  },
  {
   "cell_type": "code",
   "execution_count": 13,
   "metadata": {},
   "outputs": [
    {
     "data": {
      "text/plain": [
       "G3            1.000000\n",
       "G2            0.944451\n",
       "G1            0.883288\n",
       "Medu          0.283925\n",
       "studytime     0.274712\n",
       "Fedu          0.234633\n",
       "famrel        0.047755\n",
       "age          -0.066277\n",
       "goout        -0.104967\n",
       "health       -0.105672\n",
       "freetime     -0.128375\n",
       "traveltime   -0.146948\n",
       "absences     -0.158510\n",
       "Walc         -0.170895\n",
       "Dalc         -0.208394\n",
       "failures     -0.448360\n",
       "Name: G3, dtype: float64"
      ]
     },
     "execution_count": 13,
     "metadata": {},
     "output_type": "execute_result"
    }
   ],
   "source": [
    "# Seeing what variables correlate most positively/negatively with G3 for Portuguese class\n",
    "#Use Spearman because not all data is normally distributed\n",
    "port_class.corr(method=\"spearman\").sort_values(by=\"G3\",ascending=False)[\"G3\"]"
   ]
  },
  {
   "cell_type": "code",
   "execution_count": 14,
   "metadata": {},
   "outputs": [
    {
     "data": {
      "text/plain": [
       "<seaborn.matrix.ClusterGrid at 0x116e048d0>"
      ]
     },
     "execution_count": 14,
     "metadata": {},
     "output_type": "execute_result"
    },
    {
     "data": {
      "image/png": "[encoded data removed]",
      "text/plain": [
       "<matplotlib.figure.Figure at 0x116cd7e10>"
      ]
     },
     "metadata": {},
     "output_type": "display_data"
    }
   ],
   "source": [
    "#Creating a heatmap for the Portuguese Class\n",
    "current_palette_4 = sns.color_palette(\"hls\", 4)\n",
    "sns.set_palette(current_palette_4)\n",
    "sns.clustermap(port_class.corr())"
   ]
  },
  {
   "cell_type": "markdown",
   "metadata": {},
   "source": [
    "# Question 3: Can I use a Linear Regression model to predict G3 scores for both classes?\n"
   ]
  },
  {
   "cell_type": "markdown",
   "metadata": {},
   "source": [
    "### Conclusion: I would say the answer to this question is yes, but with a caveat. I ran an OLS regression method for both classes. I included variables that had an absolute correlation of at least .2 with the G3 score from their repective dataset. I found an extremely high R^2 value for both models (north of .8 for both). However, I question these results because the residuals are not normally distributed and violate the randomness assumption. \n",
    "### I found that without G1 and G2 included in the models, OLS returns a low R^2 value.\n",
    "### OLS for Math class-Independent Variables are Failures, Medu, G2 and G1. R^2 value of .824."
   ]
  },
  {
   "cell_type": "code",
   "execution_count": 15,
   "metadata": {},
   "outputs": [
    {
     "data": {
      "text/html": [
       "<table class=\"simpletable\">\n",
       "<caption>OLS Regression Results</caption>\n",
       "<tr>\n",
       "  <th>Dep. Variable:</th>           <td>G3</td>        <th>  R-squared:         </th> <td>   0.824</td> \n",
       "</tr>\n",
       "<tr>\n",
       "  <th>Model:</th>                   <td>OLS</td>       <th>  Adj. R-squared:    </th> <td>   0.822</td> \n",
       "</tr>\n",
       "<tr>\n",
       "  <th>Method:</th>             <td>Least Squares</td>  <th>  F-statistic:       </th> <td>   455.2</td> \n",
       "</tr>\n",
       "<tr>\n",
       "  <th>Date:</th>             <td>Thu, 12 Jul 2018</td> <th>  Prob (F-statistic):</th> <td>1.88e-145</td>\n",
       "</tr>\n",
       "<tr>\n",
       "  <th>Time:</th>                 <td>21:11:38</td>     <th>  Log-Likelihood:    </th> <td> -818.51</td> \n",
       "</tr>\n",
       "<tr>\n",
       "  <th>No. Observations:</th>      <td>   395</td>      <th>  AIC:               </th> <td>   1647.</td> \n",
       "</tr>\n",
       "<tr>\n",
       "  <th>Df Residuals:</th>          <td>   390</td>      <th>  BIC:               </th> <td>   1667.</td> \n",
       "</tr>\n",
       "<tr>\n",
       "  <th>Df Model:</th>              <td>     4</td>      <th>                     </th>     <td> </td>    \n",
       "</tr>\n",
       "<tr>\n",
       "  <th>Covariance Type:</th>      <td>nonrobust</td>    <th>                     </th>     <td> </td>    \n",
       "</tr>\n",
       "</table>\n",
       "<table class=\"simpletable\">\n",
       "<tr>\n",
       "      <td></td>         <th>coef</th>     <th>std err</th>      <th>t</th>      <th>P>|t|</th>  <th>[0.025</th>    <th>0.975]</th>  \n",
       "</tr>\n",
       "<tr>\n",
       "  <th>Intercept</th> <td>   -1.6940</td> <td>    0.433</td> <td>   -3.913</td> <td> 0.000</td> <td>   -2.545</td> <td>   -0.843</td>\n",
       "</tr>\n",
       "<tr>\n",
       "  <th>failures</th>  <td>   -0.2164</td> <td>    0.143</td> <td>   -1.512</td> <td> 0.131</td> <td>   -0.498</td> <td>    0.065</td>\n",
       "</tr>\n",
       "<tr>\n",
       "  <th>Medu</th>      <td>    0.0626</td> <td>    0.093</td> <td>    0.676</td> <td> 0.499</td> <td>   -0.119</td> <td>    0.245</td>\n",
       "</tr>\n",
       "<tr>\n",
       "  <th>G2</th>        <td>    0.9758</td> <td>    0.050</td> <td>   19.560</td> <td> 0.000</td> <td>    0.878</td> <td>    1.074</td>\n",
       "</tr>\n",
       "<tr>\n",
       "  <th>G1</th>        <td>    0.1425</td> <td>    0.056</td> <td>    2.526</td> <td> 0.012</td> <td>    0.032</td> <td>    0.253</td>\n",
       "</tr>\n",
       "</table>\n",
       "<table class=\"simpletable\">\n",
       "<tr>\n",
       "  <th>Omnibus:</th>       <td>242.109</td> <th>  Durbin-Watson:     </th> <td>   1.857</td>\n",
       "</tr>\n",
       "<tr>\n",
       "  <th>Prob(Omnibus):</th> <td> 0.000</td>  <th>  Jarque-Bera (JB):  </th> <td>1756.743</td>\n",
       "</tr>\n",
       "<tr>\n",
       "  <th>Skew:</th>          <td>-2.627</td>  <th>  Prob(JB):          </th> <td>    0.00</td>\n",
       "</tr>\n",
       "<tr>\n",
       "  <th>Kurtosis:</th>      <td>11.895</td>  <th>  Cond. No.          </th> <td>    73.9</td>\n",
       "</tr>\n",
       "</table>"
      ],
      "text/plain": [
       "<class 'statsmodels.iolib.summary.Summary'>\n",
       "\"\"\"\n",
       "                            OLS Regression Results                            \n",
       "==============================================================================\n",
       "Dep. Variable:                     G3   R-squared:                       0.824\n",
       "Model:                            OLS   Adj. R-squared:                  0.822\n",
       "Method:                 Least Squares   F-statistic:                     455.2\n",
       "Date:                Thu, 12 Jul 2018   Prob (F-statistic):          1.88e-145\n",
       "Time:                        21:11:38   Log-Likelihood:                -818.51\n",
       "No. Observations:                 395   AIC:                             1647.\n",
       "Df Residuals:                     390   BIC:                             1667.\n",
       "Df Model:                           4                                         \n",
       "Covariance Type:            nonrobust                                         \n",
       "==============================================================================\n",
       "                 coef    std err          t      P>|t|      [0.025      0.975]\n",
       "------------------------------------------------------------------------------\n",
       "Intercept     -1.6940      0.433     -3.913      0.000      -2.545      -0.843\n",
       "failures      -0.2164      0.143     -1.512      0.131      -0.498       0.065\n",
       "Medu           0.0626      0.093      0.676      0.499      -0.119       0.245\n",
       "G2             0.9758      0.050     19.560      0.000       0.878       1.074\n",
       "G1             0.1425      0.056      2.526      0.012       0.032       0.253\n",
       "==============================================================================\n",
       "Omnibus:                      242.109   Durbin-Watson:                   1.857\n",
       "Prob(Omnibus):                  0.000   Jarque-Bera (JB):             1756.743\n",
       "Skew:                          -2.627   Prob(JB):                         0.00\n",
       "Kurtosis:                      11.895   Cond. No.                         73.9\n",
       "==============================================================================\n",
       "\n",
       "Warnings:\n",
       "[1] Standard Errors assume that the covariance matrix of the errors is correctly specified.\n",
       "\"\"\""
      ]
     },
     "execution_count": 15,
     "metadata": {},
     "output_type": "execute_result"
    }
   ],
   "source": [
    "#Creating an OLS Regression for Math Class, only used variables with a correlation greater than .2\n",
    "model1 = smf.ols('G3 ~ failures+ Medu + G2+G1', data=math_class).fit()\n",
    "model1.summary()\n",
    "#.824 R^2"
   ]
  },
  {
   "cell_type": "markdown",
   "metadata": {},
   "source": [
    "### Residuals For Math Class: Plotted histogram, qq plot, lag plot and Run Sequence plot."
   ]
  },
  {
   "cell_type": "code",
   "execution_count": 16,
   "metadata": {},
   "outputs": [
    {
     "data": {
      "text/plain": [
       "<matplotlib.text.Text at 0x11f1d9f60>"
      ]
     },
     "execution_count": 16,
     "metadata": {},
     "output_type": "execute_result"
    },
    {
     "data": {
      "image/png": "[encoded data removed]",
      "text/plain": [
       "<matplotlib.figure.Figure at 0x11ed28668>"
      ]
     },
     "metadata": {},
     "output_type": "display_data"
    }
   ],
   "source": [
    "#Calculating Math Class Residuals\n",
    "expected = (-.2164*math_class.failures+-1.694+.0626*math_class.Medu+math_class.G1*.1425+math_class.G2*.9758)\n",
    "residuals = math_class.G3 - expected\n",
    "#Histogram\n",
    "sns.distplot(residuals,color=\"green\",kde=False).set_title(\" Histogram of Residuals For Math Class Model\")"
   ]
  },
  {
   "cell_type": "code",
   "execution_count": 17,
   "metadata": {},
   "outputs": [
    {
     "data": {
      "text/plain": [
       "<matplotlib.text.Text at 0x11f32d978>"
      ]
     },
     "execution_count": 17,
     "metadata": {},
     "output_type": "execute_result"
    },
    {
     "data": {
      "image/png": "[encoded data removed]",
      "text/plain": [
       "<matplotlib.figure.Figure at 0x11ed63e80>"
      ]
     },
     "metadata": {},
     "output_type": "display_data"
    }
   ],
   "source": [
    "#qq plot for math class residuals, Not Normal\n",
    "qntls, xr = stats.probplot(residuals, fit=False)\n",
    "sns.regplot(xr,qntls,color=\"green\").set_title(\" QQ plot of Residuals For Math Class Model\")"
   ]
  },
  {
   "cell_type": "code",
   "execution_count": 18,
   "metadata": {},
   "outputs": [
    {
     "data": {
      "text/plain": [
       "<matplotlib.text.Text at 0x11f2a2668>"
      ]
     },
     "execution_count": 18,
     "metadata": {},
     "output_type": "execute_result"
    },
    {
     "data": {
      "image/png": "[encoded data removed]",
      "text/plain": [
       "<matplotlib.figure.Figure at 0x11f3edc18>"
      ]
     },
     "metadata": {},
     "output_type": "display_data"
    }
   ],
   "source": [
    "# Run sequence For Math class residuals\n",
    "ax = sns.regplot(np.arange(len(residuals)),residuals,color=\"green\")\n",
    "ax.set_title(\" Run Sequence of Residuals For Math Class Model\")\n",
    "ax.set_ylim(-10,10)\n",
    "ax.set_ylabel(\"val\")\n",
    "ax.set_xlabel(\"i\")"
   ]
  },
  {
   "cell_type": "code",
   "execution_count": 19,
   "metadata": {},
   "outputs": [
    {
     "data": {
      "text/plain": [
       "<matplotlib.text.Text at 0x11f5c30f0>"
      ]
     },
     "execution_count": 19,
     "metadata": {},
     "output_type": "execute_result"
    },
    {
     "data": {
      "image/png": "[encoded data removed]",
      "text/plain": [
       "<matplotlib.figure.Figure at 0x11f4fa518>"
      ]
     },
     "metadata": {},
     "output_type": "display_data"
    }
   ],
   "source": [
    "# Lag Plot For Math Class Residuals, Randomness Assumption Violated\n",
    "lag = residuals.copy()\n",
    "lag = np.array(lag[:-1])\n",
    "current = residuals[1:]\n",
    "ax = sns.regplot(current,lag,fit_reg=False,color=\"green\")\n",
    "ax.set_ylabel(\"y_i-1\")\n",
    "ax.set_xlabel(\"y_i\")\n",
    "ax.set_title(\" Lag Plot of Residuals For Math Class Model\")"
   ]
  },
  {
   "cell_type": "markdown",
   "metadata": {},
   "source": [
    "### OLS for Portuguese Class-Independent Variables -Failures, Medu, G2, G1, Studytime, Fedu and Dalc."
   ]
  },
  {
   "cell_type": "code",
   "execution_count": 20,
   "metadata": {},
   "outputs": [
    {
     "data": {
      "text/html": [
       "<table class=\"simpletable\">\n",
       "<caption>OLS Regression Results</caption>\n",
       "<tr>\n",
       "  <th>Dep. Variable:</th>           <td>G3</td>        <th>  R-squared:         </th> <td>   0.850</td> \n",
       "</tr>\n",
       "<tr>\n",
       "  <th>Model:</th>                   <td>OLS</td>       <th>  Adj. R-squared:    </th> <td>   0.849</td> \n",
       "</tr>\n",
       "<tr>\n",
       "  <th>Method:</th>             <td>Least Squares</td>  <th>  F-statistic:       </th> <td>   519.7</td> \n",
       "</tr>\n",
       "<tr>\n",
       "  <th>Date:</th>             <td>Thu, 12 Jul 2018</td> <th>  Prob (F-statistic):</th> <td>2.10e-259</td>\n",
       "</tr>\n",
       "<tr>\n",
       "  <th>Time:</th>                 <td>21:11:39</td>     <th>  Log-Likelihood:    </th> <td> -1065.4</td> \n",
       "</tr>\n",
       "<tr>\n",
       "  <th>No. Observations:</th>      <td>   649</td>      <th>  AIC:               </th> <td>   2147.</td> \n",
       "</tr>\n",
       "<tr>\n",
       "  <th>Df Residuals:</th>          <td>   641</td>      <th>  BIC:               </th> <td>   2183.</td> \n",
       "</tr>\n",
       "<tr>\n",
       "  <th>Df Model:</th>              <td>     7</td>      <th>                     </th>     <td> </td>    \n",
       "</tr>\n",
       "<tr>\n",
       "  <th>Covariance Type:</th>      <td>nonrobust</td>    <th>                     </th>     <td> </td>    \n",
       "</tr>\n",
       "</table>\n",
       "<table class=\"simpletable\">\n",
       "<tr>\n",
       "      <td></td>         <th>coef</th>     <th>std err</th>      <th>t</th>      <th>P>|t|</th>  <th>[0.025</th>    <th>0.975]</th>  \n",
       "</tr>\n",
       "<tr>\n",
       "  <th>Intercept</th> <td>    0.2071</td> <td>    0.289</td> <td>    0.718</td> <td> 0.473</td> <td>   -0.360</td> <td>    0.774</td>\n",
       "</tr>\n",
       "<tr>\n",
       "  <th>failures</th>  <td>   -0.2022</td> <td>    0.091</td> <td>   -2.216</td> <td> 0.027</td> <td>   -0.381</td> <td>   -0.023</td>\n",
       "</tr>\n",
       "<tr>\n",
       "  <th>Medu</th>      <td>   -0.0433</td> <td>    0.058</td> <td>   -0.747</td> <td> 0.455</td> <td>   -0.157</td> <td>    0.071</td>\n",
       "</tr>\n",
       "<tr>\n",
       "  <th>G2</th>        <td>    0.8858</td> <td>    0.034</td> <td>   25.943</td> <td> 0.000</td> <td>    0.819</td> <td>    0.953</td>\n",
       "</tr>\n",
       "<tr>\n",
       "  <th>G1</th>        <td>    0.1327</td> <td>    0.036</td> <td>    3.649</td> <td> 0.000</td> <td>    0.061</td> <td>    0.204</td>\n",
       "</tr>\n",
       "<tr>\n",
       "  <th>studytime</th> <td>    0.0792</td> <td>    0.062</td> <td>    1.276</td> <td> 0.202</td> <td>   -0.043</td> <td>    0.201</td>\n",
       "</tr>\n",
       "<tr>\n",
       "  <th>Fedu</th>      <td>    0.0296</td> <td>    0.059</td> <td>    0.501</td> <td> 0.617</td> <td>   -0.087</td> <td>    0.146</td>\n",
       "</tr>\n",
       "<tr>\n",
       "  <th>Dalc</th>      <td>   -0.0863</td> <td>    0.055</td> <td>   -1.575</td> <td> 0.116</td> <td>   -0.194</td> <td>    0.021</td>\n",
       "</tr>\n",
       "</table>\n",
       "<table class=\"simpletable\">\n",
       "<tr>\n",
       "  <th>Omnibus:</th>       <td>464.009</td> <th>  Durbin-Watson:     </th> <td>   1.860</td> \n",
       "</tr>\n",
       "<tr>\n",
       "  <th>Prob(Omnibus):</th> <td> 0.000</td>  <th>  Jarque-Bera (JB):  </th> <td>10643.959</td>\n",
       "</tr>\n",
       "<tr>\n",
       "  <th>Skew:</th>          <td>-2.879</td>  <th>  Prob(JB):          </th> <td>    0.00</td> \n",
       "</tr>\n",
       "<tr>\n",
       "  <th>Kurtosis:</th>      <td>21.986</td>  <th>  Cond. No.          </th> <td>    102.</td> \n",
       "</tr>\n",
       "</table>"
      ],
      "text/plain": [
       "<class 'statsmodels.iolib.summary.Summary'>\n",
       "\"\"\"\n",
       "                            OLS Regression Results                            \n",
       "==============================================================================\n",
       "Dep. Variable:                     G3   R-squared:                       0.850\n",
       "Model:                            OLS   Adj. R-squared:                  0.849\n",
       "Method:                 Least Squares   F-statistic:                     519.7\n",
       "Date:                Thu, 12 Jul 2018   Prob (F-statistic):          2.10e-259\n",
       "Time:                        21:11:39   Log-Likelihood:                -1065.4\n",
       "No. Observations:                 649   AIC:                             2147.\n",
       "Df Residuals:                     641   BIC:                             2183.\n",
       "Df Model:                           7                                         \n",
       "Covariance Type:            nonrobust                                         \n",
       "==============================================================================\n",
       "                 coef    std err          t      P>|t|      [0.025      0.975]\n",
       "------------------------------------------------------------------------------\n",
       "Intercept      0.2071      0.289      0.718      0.473      -0.360       0.774\n",
       "failures      -0.2022      0.091     -2.216      0.027      -0.381      -0.023\n",
       "Medu          -0.0433      0.058     -0.747      0.455      -0.157       0.071\n",
       "G2             0.8858      0.034     25.943      0.000       0.819       0.953\n",
       "G1             0.1327      0.036      3.649      0.000       0.061       0.204\n",
       "studytime      0.0792      0.062      1.276      0.202      -0.043       0.201\n",
       "Fedu           0.0296      0.059      0.501      0.617      -0.087       0.146\n",
       "Dalc          -0.0863      0.055     -1.575      0.116      -0.194       0.021\n",
       "==============================================================================\n",
       "Omnibus:                      464.009   Durbin-Watson:                   1.860\n",
       "Prob(Omnibus):                  0.000   Jarque-Bera (JB):            10643.959\n",
       "Skew:                          -2.879   Prob(JB):                         0.00\n",
       "Kurtosis:                      21.986   Cond. No.                         102.\n",
       "==============================================================================\n",
       "\n",
       "Warnings:\n",
       "[1] Standard Errors assume that the covariance matrix of the errors is correctly specified.\n",
       "\"\"\""
      ]
     },
     "execution_count": 20,
     "metadata": {},
     "output_type": "execute_result"
    }
   ],
   "source": [
    " model1 = smf.ols('G3 ~ failures+ Medu + G2+G1+studytime+Fedu+Dalc', data=port_class).fit()\n",
    "model1.summary()"
   ]
  },
  {
   "cell_type": "markdown",
   "metadata": {},
   "source": [
    "### Residuals for Portuguese Class : Plotted histogram, qq plot, lag plot and Run Sequence plot."
   ]
  },
  {
   "cell_type": "code",
   "execution_count": 21,
   "metadata": {},
   "outputs": [
    {
     "data": {
      "text/plain": [
       "<matplotlib.text.Text at 0x11f6ee668>"
      ]
     },
     "execution_count": 21,
     "metadata": {},
     "output_type": "execute_result"
    },
    {
     "data": {
      "image/png": "[encoded data removed]",
      "text/plain": [
       "<matplotlib.figure.Figure at 0x11ed282b0>"
      ]
     },
     "metadata": {},
     "output_type": "display_data"
    }
   ],
   "source": [
    "#Calculating Portuguese Class Residuals\n",
    "expected = (-.2022*port_class.failures+.2071+-.04033*port_class.Medu+port_class.G1*.1327+port_class.G2*.8858+port_class.studytime*.0792+port_class.Fedu*.0296+port_class.Dalc*-.0863)\n",
    "residuals = port_class.G3 - expected\n",
    "sns.distplot(residuals,color=\"black\",kde=False).set_title(\" Histogram of Residuals For Portuguese Class Model\")"
   ]
  },
  {
   "cell_type": "code",
   "execution_count": 22,
   "metadata": {},
   "outputs": [
    {
     "data": {
      "text/plain": [
       "<matplotlib.text.Text at 0x11f875080>"
      ]
     },
     "execution_count": 22,
     "metadata": {},
     "output_type": "execute_result"
    },
    {
     "data": {
      "image/png": "[encoded data removed]",
      "text/plain": [
       "<matplotlib.figure.Figure at 0x11628fcf8>"
      ]
     },
     "metadata": {},
     "output_type": "display_data"
    }
   ],
   "source": [
    "#QQ plot for Portuguese Class Residuals, Not Normal\n",
    "qntls, xr = stats.probplot(residuals, fit=False)\n",
    "sns.regplot(xr,qntls,color=\"black\").set_title(\" QQ plot of Residuals For Portuguese Class Model\")"
   ]
  },
  {
   "cell_type": "code",
   "execution_count": 23,
   "metadata": {},
   "outputs": [
    {
     "data": {
      "text/plain": [
       "<matplotlib.text.Text at 0x11f7f8b70>"
      ]
     },
     "execution_count": 23,
     "metadata": {},
     "output_type": "execute_result"
    },
    {
     "data": {
      "image/png": "[encoded data removed]",
      "text/plain": [
       "<matplotlib.figure.Figure at 0x11f92f908>"
      ]
     },
     "metadata": {},
     "output_type": "display_data"
    }
   ],
   "source": [
    "# Lag Plot For Portuguese Class Residuals, Randomness Assumption does not hold\n",
    "lag = residuals.copy()\n",
    "lag = np.array(lag[:-1])\n",
    "current = residuals[1:]\n",
    "ax = sns.regplot(current,lag,fit_reg=False,color=\"black\")\n",
    "ax.set_title(\" Lag Plot of Residuals For Portuguese Class Model\")\n",
    "ax.set_ylabel(\"y_i-1\")\n",
    "ax.set_xlabel(\"y_i\")"
   ]
  },
  {
   "cell_type": "code",
   "execution_count": 24,
   "metadata": {},
   "outputs": [
    {
     "data": {
      "text/plain": [
       "<matplotlib.text.Text at 0x11f59f630>"
      ]
     },
     "execution_count": 24,
     "metadata": {},
     "output_type": "execute_result"
    },
    {
     "data": {
      "image/png": "[encoded data removed]",
      "text/plain": [
       "<matplotlib.figure.Figure at 0x11f948a58>"
      ]
     },
     "metadata": {},
     "output_type": "display_data"
    }
   ],
   "source": [
    "# Run sequence For Portuguese Class Residuals\n",
    "ax = sns.regplot(np.arange(len(residuals)),residuals,color=\"black\")\n",
    "ax.set_ylim(-10,10)\n",
    "ax.set_title(\" Run Sequence of Residuals For Portuguese Class Model\")\n",
    "ax.set_ylabel(\"val\")\n",
    "ax.set_xlabel(\"i\")"
   ]
  },
  {
   "cell_type": "markdown",
   "metadata": {},
   "source": [
    "### OLS without G1 or G2-Kept other Variables"
   ]
  },
  {
   "cell_type": "code",
   "execution_count": 25,
   "metadata": {},
   "outputs": [
    {
     "data": {
      "text/html": [
       "<table class=\"simpletable\">\n",
       "<caption>OLS Regression Results</caption>\n",
       "<tr>\n",
       "  <th>Dep. Variable:</th>           <td>G3</td>        <th>  R-squared:         </th> <td>   0.148</td>\n",
       "</tr>\n",
       "<tr>\n",
       "  <th>Model:</th>                   <td>OLS</td>       <th>  Adj. R-squared:    </th> <td>   0.144</td>\n",
       "</tr>\n",
       "<tr>\n",
       "  <th>Method:</th>             <td>Least Squares</td>  <th>  F-statistic:       </th> <td>   34.13</td>\n",
       "</tr>\n",
       "<tr>\n",
       "  <th>Date:</th>             <td>Thu, 12 Jul 2018</td> <th>  Prob (F-statistic):</th> <td>2.16e-14</td>\n",
       "</tr>\n",
       "<tr>\n",
       "  <th>Time:</th>                 <td>21:11:41</td>     <th>  Log-Likelihood:    </th> <td> -1129.5</td>\n",
       "</tr>\n",
       "<tr>\n",
       "  <th>No. Observations:</th>      <td>   395</td>      <th>  AIC:               </th> <td>   2265.</td>\n",
       "</tr>\n",
       "<tr>\n",
       "  <th>Df Residuals:</th>          <td>   392</td>      <th>  BIC:               </th> <td>   2277.</td>\n",
       "</tr>\n",
       "<tr>\n",
       "  <th>Df Model:</th>              <td>     2</td>      <th>                     </th>     <td> </td>   \n",
       "</tr>\n",
       "<tr>\n",
       "  <th>Covariance Type:</th>      <td>nonrobust</td>    <th>                     </th>     <td> </td>   \n",
       "</tr>\n",
       "</table>\n",
       "<table class=\"simpletable\">\n",
       "<tr>\n",
       "      <td></td>         <th>coef</th>     <th>std err</th>      <th>t</th>      <th>P>|t|</th>  <th>[0.025</th>    <th>0.975]</th>  \n",
       "</tr>\n",
       "<tr>\n",
       "  <th>Intercept</th> <td>    9.4821</td> <td>    0.621</td> <td>   15.267</td> <td> 0.000</td> <td>    8.261</td> <td>   10.703</td>\n",
       "</tr>\n",
       "<tr>\n",
       "  <th>failures</th>  <td>   -2.0168</td> <td>    0.296</td> <td>   -6.824</td> <td> 0.000</td> <td>   -2.598</td> <td>   -1.436</td>\n",
       "</tr>\n",
       "<tr>\n",
       "  <th>Medu</th>      <td>    0.5845</td> <td>    0.201</td> <td>    2.911</td> <td> 0.004</td> <td>    0.190</td> <td>    0.979</td>\n",
       "</tr>\n",
       "</table>\n",
       "<table class=\"simpletable\">\n",
       "<tr>\n",
       "  <th>Omnibus:</th>       <td>35.775</td> <th>  Durbin-Watson:     </th> <td>   2.001</td>\n",
       "</tr>\n",
       "<tr>\n",
       "  <th>Prob(Omnibus):</th> <td> 0.000</td> <th>  Jarque-Bera (JB):  </th> <td>  42.955</td>\n",
       "</tr>\n",
       "<tr>\n",
       "  <th>Skew:</th>          <td>-0.760</td> <th>  Prob(JB):          </th> <td>4.70e-10</td>\n",
       "</tr>\n",
       "<tr>\n",
       "  <th>Kurtosis:</th>      <td> 3.545</td> <th>  Cond. No.          </th> <td>    9.63</td>\n",
       "</tr>\n",
       "</table>"
      ],
      "text/plain": [
       "<class 'statsmodels.iolib.summary.Summary'>\n",
       "\"\"\"\n",
       "                            OLS Regression Results                            \n",
       "==============================================================================\n",
       "Dep. Variable:                     G3   R-squared:                       0.148\n",
       "Model:                            OLS   Adj. R-squared:                  0.144\n",
       "Method:                 Least Squares   F-statistic:                     34.13\n",
       "Date:                Thu, 12 Jul 2018   Prob (F-statistic):           2.16e-14\n",
       "Time:                        21:11:41   Log-Likelihood:                -1129.5\n",
       "No. Observations:                 395   AIC:                             2265.\n",
       "Df Residuals:                     392   BIC:                             2277.\n",
       "Df Model:                           2                                         \n",
       "Covariance Type:            nonrobust                                         \n",
       "==============================================================================\n",
       "                 coef    std err          t      P>|t|      [0.025      0.975]\n",
       "------------------------------------------------------------------------------\n",
       "Intercept      9.4821      0.621     15.267      0.000       8.261      10.703\n",
       "failures      -2.0168      0.296     -6.824      0.000      -2.598      -1.436\n",
       "Medu           0.5845      0.201      2.911      0.004       0.190       0.979\n",
       "==============================================================================\n",
       "Omnibus:                       35.775   Durbin-Watson:                   2.001\n",
       "Prob(Omnibus):                  0.000   Jarque-Bera (JB):               42.955\n",
       "Skew:                          -0.760   Prob(JB):                     4.70e-10\n",
       "Kurtosis:                       3.545   Cond. No.                         9.63\n",
       "==============================================================================\n",
       "\n",
       "Warnings:\n",
       "[1] Standard Errors assume that the covariance matrix of the errors is correctly specified.\n",
       "\"\"\""
      ]
     },
     "execution_count": 25,
     "metadata": {},
     "output_type": "execute_result"
    }
   ],
   "source": [
    "#Fitting an OLS Regression without G2 or G1\n",
    "model1 = smf.ols('G3 ~ failures+ Medu', data=math_class).fit()\n",
    "model1.summary()\n",
    "#R^2 of .148"
   ]
  },
  {
   "cell_type": "code",
   "execution_count": 26,
   "metadata": {},
   "outputs": [
    {
     "data": {
      "text/html": [
       "<table class=\"simpletable\">\n",
       "<caption>OLS Regression Results</caption>\n",
       "<tr>\n",
       "  <th>Dep. Variable:</th>           <td>G3</td>        <th>  R-squared:         </th> <td>   0.242</td>\n",
       "</tr>\n",
       "<tr>\n",
       "  <th>Model:</th>                   <td>OLS</td>       <th>  Adj. R-squared:    </th> <td>   0.236</td>\n",
       "</tr>\n",
       "<tr>\n",
       "  <th>Method:</th>             <td>Least Squares</td>  <th>  F-statistic:       </th> <td>   41.08</td>\n",
       "</tr>\n",
       "<tr>\n",
       "  <th>Date:</th>             <td>Thu, 12 Jul 2018</td> <th>  Prob (F-statistic):</th> <td>1.04e-36</td>\n",
       "</tr>\n",
       "<tr>\n",
       "  <th>Time:</th>                 <td>21:11:41</td>     <th>  Log-Likelihood:    </th> <td> -1591.5</td>\n",
       "</tr>\n",
       "<tr>\n",
       "  <th>No. Observations:</th>      <td>   649</td>      <th>  AIC:               </th> <td>   3195.</td>\n",
       "</tr>\n",
       "<tr>\n",
       "  <th>Df Residuals:</th>          <td>   643</td>      <th>  BIC:               </th> <td>   3222.</td>\n",
       "</tr>\n",
       "<tr>\n",
       "  <th>Df Model:</th>              <td>     5</td>      <th>                     </th>     <td> </td>   \n",
       "</tr>\n",
       "<tr>\n",
       "  <th>Covariance Type:</th>      <td>nonrobust</td>    <th>                     </th>     <td> </td>   \n",
       "</tr>\n",
       "</table>\n",
       "<table class=\"simpletable\">\n",
       "<tr>\n",
       "      <td></td>         <th>coef</th>     <th>std err</th>      <th>t</th>      <th>P>|t|</th>  <th>[0.025</th>    <th>0.975]</th>  \n",
       "</tr>\n",
       "<tr>\n",
       "  <th>Intercept</th> <td>   10.4544</td> <td>    0.443</td> <td>   23.606</td> <td> 0.000</td> <td>    9.585</td> <td>   11.324</td>\n",
       "</tr>\n",
       "<tr>\n",
       "  <th>failures</th>  <td>   -1.7445</td> <td>    0.193</td> <td>   -9.046</td> <td> 0.000</td> <td>   -2.123</td> <td>   -1.366</td>\n",
       "</tr>\n",
       "<tr>\n",
       "  <th>Medu</th>      <td>    0.3456</td> <td>    0.129</td> <td>    2.676</td> <td> 0.008</td> <td>    0.092</td> <td>    0.599</td>\n",
       "</tr>\n",
       "<tr>\n",
       "  <th>studytime</th> <td>    0.6502</td> <td>    0.137</td> <td>    4.758</td> <td> 0.000</td> <td>    0.382</td> <td>    0.919</td>\n",
       "</tr>\n",
       "<tr>\n",
       "  <th>Fedu</th>      <td>    0.2105</td> <td>    0.133</td> <td>    1.586</td> <td> 0.113</td> <td>   -0.050</td> <td>    0.471</td>\n",
       "</tr>\n",
       "<tr>\n",
       "  <th>Dalc</th>      <td>   -0.5134</td> <td>    0.122</td> <td>   -4.223</td> <td> 0.000</td> <td>   -0.752</td> <td>   -0.275</td>\n",
       "</tr>\n",
       "</table>\n",
       "<table class=\"simpletable\">\n",
       "<tr>\n",
       "  <th>Omnibus:</th>       <td>129.526</td> <th>  Durbin-Watson:     </th> <td>   1.786</td>\n",
       "</tr>\n",
       "<tr>\n",
       "  <th>Prob(Omnibus):</th> <td> 0.000</td>  <th>  Jarque-Bera (JB):  </th> <td> 392.710</td>\n",
       "</tr>\n",
       "<tr>\n",
       "  <th>Skew:</th>          <td>-0.956</td>  <th>  Prob(JB):          </th> <td>5.30e-86</td>\n",
       "</tr>\n",
       "<tr>\n",
       "  <th>Kurtosis:</th>      <td> 6.296</td>  <th>  Cond. No.          </th> <td>    18.7</td>\n",
       "</tr>\n",
       "</table>"
      ],
      "text/plain": [
       "<class 'statsmodels.iolib.summary.Summary'>\n",
       "\"\"\"\n",
       "                            OLS Regression Results                            \n",
       "==============================================================================\n",
       "Dep. Variable:                     G3   R-squared:                       0.242\n",
       "Model:                            OLS   Adj. R-squared:                  0.236\n",
       "Method:                 Least Squares   F-statistic:                     41.08\n",
       "Date:                Thu, 12 Jul 2018   Prob (F-statistic):           1.04e-36\n",
       "Time:                        21:11:41   Log-Likelihood:                -1591.5\n",
       "No. Observations:                 649   AIC:                             3195.\n",
       "Df Residuals:                     643   BIC:                             3222.\n",
       "Df Model:                           5                                         \n",
       "Covariance Type:            nonrobust                                         \n",
       "==============================================================================\n",
       "                 coef    std err          t      P>|t|      [0.025      0.975]\n",
       "------------------------------------------------------------------------------\n",
       "Intercept     10.4544      0.443     23.606      0.000       9.585      11.324\n",
       "failures      -1.7445      0.193     -9.046      0.000      -2.123      -1.366\n",
       "Medu           0.3456      0.129      2.676      0.008       0.092       0.599\n",
       "studytime      0.6502      0.137      4.758      0.000       0.382       0.919\n",
       "Fedu           0.2105      0.133      1.586      0.113      -0.050       0.471\n",
       "Dalc          -0.5134      0.122     -4.223      0.000      -0.752      -0.275\n",
       "==============================================================================\n",
       "Omnibus:                      129.526   Durbin-Watson:                   1.786\n",
       "Prob(Omnibus):                  0.000   Jarque-Bera (JB):              392.710\n",
       "Skew:                          -0.956   Prob(JB):                     5.30e-86\n",
       "Kurtosis:                       6.296   Cond. No.                         18.7\n",
       "==============================================================================\n",
       "\n",
       "Warnings:\n",
       "[1] Standard Errors assume that the covariance matrix of the errors is correctly specified.\n",
       "\"\"\""
      ]
     },
     "execution_count": 26,
     "metadata": {},
     "output_type": "execute_result"
    }
   ],
   "source": [
    "#Fitting an OLS model without G2 and G1 for Portuguese Class\n",
    "model1 = smf.ols('G3 ~ failures+ Medu+studytime+Fedu+Dalc', data=port_class).fit()\n",
    "model1.summary()\n",
    "#R^2 of .24"
   ]
  },
  {
   "cell_type": "markdown",
   "metadata": {},
   "source": [
    "# Question 4-Do Heavy Weekend Drinkers get worse Final Grades (G3), than those who do not drink at all on the weekends?"
   ]
  },
  {
   "cell_type": "markdown",
   "metadata": {},
   "source": [
    "### Conclusion: For this section, I found that heavy weekend drinkers, on average,(either 4 or 5 for the Walc variable) did worse than those who did not drink on the weekend. I found a statistically significant p-value from a Mann Whitney U test.\n",
    "### I first created two dataframes. One for heavy drinkers and one for non-drinkers. I then used a Mann Whitney U test to determine if the difference in medians was significant ( I could not use a t-test because data was not exactly normally distributed). The p-value was below .05 so I determined it to be a significant difference. I then calculated the means for both groups and saw that the people who did not drink did better on average."
   ]
  },
  {
   "cell_type": "code",
   "execution_count": 27,
   "metadata": {},
   "outputs": [
    {
     "data": {
      "text/plain": [
       "1    276\n",
       "2     75\n",
       "3     26\n",
       "5      9\n",
       "4      9\n",
       "Name: Dalc, dtype: int64"
      ]
     },
     "execution_count": 27,
     "metadata": {},
     "output_type": "execute_result"
    }
   ],
   "source": [
    "#Not enough heavy weekday Drinkers\n",
    "math_class.Dalc.value_counts()"
   ]
  },
  {
   "cell_type": "code",
   "execution_count": 28,
   "metadata": {},
   "outputs": [
    {
     "data": {
      "text/plain": [
       "1    151\n",
       "2     85\n",
       "3     80\n",
       "4     51\n",
       "5     28\n",
       "Name: Walc, dtype: int64"
      ]
     },
     "execution_count": 28,
     "metadata": {},
     "output_type": "execute_result"
    }
   ],
   "source": [
    "#More values for Weekend Drinkers\n",
    "math_class.Walc.value_counts()"
   ]
  },
  {
   "cell_type": "code",
   "execution_count": 29,
   "metadata": {},
   "outputs": [],
   "source": [
    "#Filtering dataframes\n",
    "not_drinkers=math_class[math_class[\"Walc\"]==1]\n",
    "heavy_drinkers=math_class[(math_class[\"Walc\"]==4) | (math_class[\"Walc\"]==5)]"
   ]
  },
  {
   "cell_type": "code",
   "execution_count": 30,
   "metadata": {},
   "outputs": [
    {
     "data": {
      "text/plain": [
       "<matplotlib.text.Text at 0x11f1c2860>"
      ]
     },
     "execution_count": 30,
     "metadata": {},
     "output_type": "execute_result"
    },
    {
     "data": {
      "image/png": "[encoded data removed]",
      "text/plain": [
       "<matplotlib.figure.Figure at 0x116cfb438>"
      ]
     },
     "metadata": {},
     "output_type": "display_data"
    }
   ],
   "source": [
    "#95% G3 score Confidence Intervals For each level of drinking\n",
    "plot=sns.factorplot(data=math_class,x=\"Walc\",y=\"G3\",color=\"purple\")\n",
    "plt.subplots_adjust(top=0.9)\n",
    "plot.fig.suptitle('Factorplot for all Walc Levels')"
   ]
  },
  {
   "cell_type": "code",
   "execution_count": 31,
   "metadata": {},
   "outputs": [
    {
     "data": {
      "text/plain": [
       "<matplotlib.text.Text at 0x11fb709e8>"
      ]
     },
     "execution_count": 31,
     "metadata": {},
     "output_type": "execute_result"
    },
    {
     "data": {
      "image/png": "[encoded data removed]",
      "text/plain": [
       "<matplotlib.figure.Figure at 0x11f6d08d0>"
      ]
     },
     "metadata": {},
     "output_type": "display_data"
    }
   ],
   "source": [
    "#Histogram for Light Drinkers, not exactly normal\n",
    "sns.distplot(not_drinkers[\"G3\"],kde=False).set_title(\"Histogram of G3 scores for those who do not drink\")"
   ]
  },
  {
   "cell_type": "code",
   "execution_count": 32,
   "metadata": {},
   "outputs": [
    {
     "data": {
      "text/plain": [
       "<matplotlib.axes._subplots.AxesSubplot at 0x1163c9828>"
      ]
     },
     "execution_count": 32,
     "metadata": {},
     "output_type": "execute_result"
    },
    {
     "data": {
      "image/png": "[encoded data removed]",
      "text/plain": [
       "<matplotlib.figure.Figure at 0x11eaeb898>"
      ]
     },
     "metadata": {},
     "output_type": "display_data"
    }
   ],
   "source": [
    "#Histogram for Heavy Drinkers\n",
    "sns.distplot(heavy_drinkers[\"G3\"],kde=False,color=\"cyan\")"
   ]
  },
  {
   "cell_type": "code",
   "execution_count": 33,
   "metadata": {},
   "outputs": [
    {
     "data": {
      "text/plain": [
       "MannwhitneyuResult(statistic=4933.5, pvalue=0.015437892983525483)"
      ]
     },
     "execution_count": 33,
     "metadata": {},
     "output_type": "execute_result"
    }
   ],
   "source": [
    "#Data is not exactly normal So I used the Mann Whitney U Test\n",
    "stats.mannwhitneyu(not_drinkers.G3.dropna(),heavy_drinkers.G3.dropna())"
   ]
  },
  {
   "cell_type": "code",
   "execution_count": 34,
   "metadata": {},
   "outputs": [
    {
     "name": "stdout",
     "output_type": "stream",
     "text": [
      "The average scores for non-drinkers is 10.735099337748345\n",
      "The average scores for heavy-drinkers is 9.848101265822784\n"
     ]
    }
   ],
   "source": [
    "# Calculating the average score for both groups\n",
    "print(\"The average scores for non-drinkers is {}\".format(np.mean(not_drinkers.G3)))\n",
    "print(\"The average scores for heavy-drinkers is {}\".format(np.mean(heavy_drinkers.G3)))"
   ]
  },
  {
   "cell_type": "markdown",
   "metadata": {},
   "source": [
    "## Null Hypothesis: There is no difference in median Math G3 score for students who are heavy drinkers compared to those who are not.\n",
    "## P-value is less than .05, so there seems to be enough evidence to reject null hypothesis"
   ]
  },
  {
   "cell_type": "markdown",
   "metadata": {},
   "source": [
    "# Performing Dimensionality Reduction on math_class data using Factor Analysis\n",
    "### This will be Relevant For my clustering section "
   ]
  },
  {
   "cell_type": "markdown",
   "metadata": {},
   "source": [
    "### Before using Factor Analysis, I normalized my math class data using the preprocessing module from scikitlearn.\n",
    "### I created two factors because I wanted to use the factors to visualize the K Means clustering later in this notebook.\n",
    "### I was aiming to create two factors that were determined by students."
   ]
  },
  {
   "cell_type": "code",
   "execution_count": 35,
   "metadata": {},
   "outputs": [
    {
     "name": "stdout",
     "output_type": "stream",
     "text": [
      "16\n"
     ]
    },
    {
     "name": "stderr",
     "output_type": "stream",
     "text": [
      "/anaconda/lib/python3.6/site-packages/ipykernel_launcher.py:7: DeprecationWarning: \n",
      ".ix is deprecated. Please use\n",
      ".loc for label based indexing or\n",
      ".iloc for positional indexing\n",
      "\n",
      "See the documentation here:\n",
      "http://pandas.pydata.org/pandas-docs/stable/indexing.html#ix-indexer-is-deprecated\n",
      "  import sys\n"
     ]
    }
   ],
   "source": [
    "#Normalizing the dataset\n",
    "math_class_norm = math_class.copy()\n",
    "for colum in list(math_class_norm):\n",
    "    if colum not in list(math_class_norm.describe()):\n",
    "        math_class_norm=math_class_norm.drop(columns={colum})\n",
    "print(len(list(math_class_norm)))\n",
    "math_class_norm.ix[:,:16] = skp.scale(math_class_norm.astype(np.float))\n"
   ]
  },
  {
   "cell_type": "code",
   "execution_count": 36,
   "metadata": {},
   "outputs": [
    {
     "data": {
      "text/html": [
       "<div>\n",
       "<style scoped>\n",
       "    .dataframe tbody tr th:only-of-type {\n",
       "        vertical-align: middle;\n",
       "    }\n",
       "\n",
       "    .dataframe tbody tr th {\n",
       "        vertical-align: top;\n",
       "    }\n",
       "\n",
       "    .dataframe thead th {\n",
       "        text-align: right;\n",
       "    }\n",
       "</style>\n",
       "<table border=\"1\" class=\"dataframe\">\n",
       "  <thead>\n",
       "    <tr style=\"text-align: right;\">\n",
       "      <th></th>\n",
       "      <th>Factor1</th>\n",
       "      <th>Factor2</th>\n",
       "    </tr>\n",
       "  </thead>\n",
       "  <tbody>\n",
       "    <tr>\n",
       "      <th>0</th>\n",
       "      <td>-0.308567</td>\n",
       "      <td>0.360803</td>\n",
       "    </tr>\n",
       "    <tr>\n",
       "      <th>1</th>\n",
       "      <td>-0.369652</td>\n",
       "      <td>-0.348002</td>\n",
       "    </tr>\n",
       "    <tr>\n",
       "      <th>2</th>\n",
       "      <td>-0.493007</td>\n",
       "      <td>-0.292253</td>\n",
       "    </tr>\n",
       "    <tr>\n",
       "      <th>3</th>\n",
       "      <td>0.725756</td>\n",
       "      <td>0.055269</td>\n",
       "    </tr>\n",
       "    <tr>\n",
       "      <th>4</th>\n",
       "      <td>0.028389</td>\n",
       "      <td>0.211068</td>\n",
       "    </tr>\n",
       "    <tr>\n",
       "      <th>5</th>\n",
       "      <td>0.562677</td>\n",
       "      <td>0.101709</td>\n",
       "    </tr>\n",
       "    <tr>\n",
       "      <th>6</th>\n",
       "      <td>0.193828</td>\n",
       "      <td>-0.121504</td>\n",
       "    </tr>\n",
       "    <tr>\n",
       "      <th>7</th>\n",
       "      <td>-0.177031</td>\n",
       "      <td>0.416258</td>\n",
       "    </tr>\n",
       "    <tr>\n",
       "      <th>8</th>\n",
       "      <td>0.941118</td>\n",
       "      <td>-0.128015</td>\n",
       "    </tr>\n",
       "    <tr>\n",
       "      <th>9</th>\n",
       "      <td>0.692876</td>\n",
       "      <td>0.131064</td>\n",
       "    </tr>\n",
       "    <tr>\n",
       "      <th>10</th>\n",
       "      <td>0.174331</td>\n",
       "      <td>0.589889</td>\n",
       "    </tr>\n",
       "    <tr>\n",
       "      <th>11</th>\n",
       "      <td>0.252362</td>\n",
       "      <td>-0.506276</td>\n",
       "    </tr>\n",
       "    <tr>\n",
       "      <th>12</th>\n",
       "      <td>0.443752</td>\n",
       "      <td>0.480644</td>\n",
       "    </tr>\n",
       "    <tr>\n",
       "      <th>13</th>\n",
       "      <td>0.160731</td>\n",
       "      <td>0.239469</td>\n",
       "    </tr>\n",
       "    <tr>\n",
       "      <th>14</th>\n",
       "      <td>0.647878</td>\n",
       "      <td>-0.250317</td>\n",
       "    </tr>\n",
       "    <tr>\n",
       "      <th>15</th>\n",
       "      <td>0.403141</td>\n",
       "      <td>0.430105</td>\n",
       "    </tr>\n",
       "    <tr>\n",
       "      <th>16</th>\n",
       "      <td>0.563423</td>\n",
       "      <td>0.345972</td>\n",
       "    </tr>\n",
       "    <tr>\n",
       "      <th>17</th>\n",
       "      <td>0.065853</td>\n",
       "      <td>-0.058094</td>\n",
       "    </tr>\n",
       "    <tr>\n",
       "      <th>18</th>\n",
       "      <td>-1.068157</td>\n",
       "      <td>0.144857</td>\n",
       "    </tr>\n",
       "    <tr>\n",
       "      <th>19</th>\n",
       "      <td>0.017493</td>\n",
       "      <td>0.470112</td>\n",
       "    </tr>\n",
       "    <tr>\n",
       "      <th>20</th>\n",
       "      <td>0.702538</td>\n",
       "      <td>0.213659</td>\n",
       "    </tr>\n",
       "    <tr>\n",
       "      <th>21</th>\n",
       "      <td>0.594188</td>\n",
       "      <td>0.367935</td>\n",
       "    </tr>\n",
       "    <tr>\n",
       "      <th>22</th>\n",
       "      <td>0.537080</td>\n",
       "      <td>0.020971</td>\n",
       "    </tr>\n",
       "    <tr>\n",
       "      <th>23</th>\n",
       "      <td>-0.041480</td>\n",
       "      <td>-0.196420</td>\n",
       "    </tr>\n",
       "    <tr>\n",
       "      <th>24</th>\n",
       "      <td>0.239313</td>\n",
       "      <td>0.155943</td>\n",
       "    </tr>\n",
       "    <tr>\n",
       "      <th>25</th>\n",
       "      <td>-0.449369</td>\n",
       "      <td>0.154719</td>\n",
       "    </tr>\n",
       "    <tr>\n",
       "      <th>26</th>\n",
       "      <td>0.265877</td>\n",
       "      <td>-0.033193</td>\n",
       "    </tr>\n",
       "    <tr>\n",
       "      <th>27</th>\n",
       "      <td>0.350964</td>\n",
       "      <td>0.373509</td>\n",
       "    </tr>\n",
       "    <tr>\n",
       "      <th>28</th>\n",
       "      <td>0.290964</td>\n",
       "      <td>0.204514</td>\n",
       "    </tr>\n",
       "    <tr>\n",
       "      <th>29</th>\n",
       "      <td>-0.401726</td>\n",
       "      <td>0.642896</td>\n",
       "    </tr>\n",
       "    <tr>\n",
       "      <th>...</th>\n",
       "      <td>...</td>\n",
       "      <td>...</td>\n",
       "    </tr>\n",
       "    <tr>\n",
       "      <th>365</th>\n",
       "      <td>-0.343437</td>\n",
       "      <td>-0.130793</td>\n",
       "    </tr>\n",
       "    <tr>\n",
       "      <th>366</th>\n",
       "      <td>0.362544</td>\n",
       "      <td>0.080412</td>\n",
       "    </tr>\n",
       "    <tr>\n",
       "      <th>367</th>\n",
       "      <td>-0.538325</td>\n",
       "      <td>-0.511182</td>\n",
       "    </tr>\n",
       "    <tr>\n",
       "      <th>368</th>\n",
       "      <td>-0.015178</td>\n",
       "      <td>-0.170836</td>\n",
       "    </tr>\n",
       "    <tr>\n",
       "      <th>369</th>\n",
       "      <td>0.023048</td>\n",
       "      <td>0.172022</td>\n",
       "    </tr>\n",
       "    <tr>\n",
       "      <th>370</th>\n",
       "      <td>-0.334386</td>\n",
       "      <td>-0.215028</td>\n",
       "    </tr>\n",
       "    <tr>\n",
       "      <th>371</th>\n",
       "      <td>-0.117904</td>\n",
       "      <td>-0.470103</td>\n",
       "    </tr>\n",
       "    <tr>\n",
       "      <th>372</th>\n",
       "      <td>0.211622</td>\n",
       "      <td>-0.215183</td>\n",
       "    </tr>\n",
       "    <tr>\n",
       "      <th>373</th>\n",
       "      <td>-0.713628</td>\n",
       "      <td>0.065641</td>\n",
       "    </tr>\n",
       "    <tr>\n",
       "      <th>374</th>\n",
       "      <td>0.847561</td>\n",
       "      <td>-0.110739</td>\n",
       "    </tr>\n",
       "    <tr>\n",
       "      <th>375</th>\n",
       "      <td>-0.282691</td>\n",
       "      <td>-0.755146</td>\n",
       "    </tr>\n",
       "    <tr>\n",
       "      <th>376</th>\n",
       "      <td>0.205948</td>\n",
       "      <td>-0.488861</td>\n",
       "    </tr>\n",
       "    <tr>\n",
       "      <th>377</th>\n",
       "      <td>-0.249007</td>\n",
       "      <td>0.400271</td>\n",
       "    </tr>\n",
       "    <tr>\n",
       "      <th>378</th>\n",
       "      <td>0.560147</td>\n",
       "      <td>-0.083492</td>\n",
       "    </tr>\n",
       "    <tr>\n",
       "      <th>379</th>\n",
       "      <td>-0.258616</td>\n",
       "      <td>-0.046672</td>\n",
       "    </tr>\n",
       "    <tr>\n",
       "      <th>380</th>\n",
       "      <td>0.330274</td>\n",
       "      <td>0.324032</td>\n",
       "    </tr>\n",
       "    <tr>\n",
       "      <th>381</th>\n",
       "      <td>-0.556098</td>\n",
       "      <td>-0.240310</td>\n",
       "    </tr>\n",
       "    <tr>\n",
       "      <th>382</th>\n",
       "      <td>0.090828</td>\n",
       "      <td>-0.131851</td>\n",
       "    </tr>\n",
       "    <tr>\n",
       "      <th>383</th>\n",
       "      <td>-0.830758</td>\n",
       "      <td>-0.437756</td>\n",
       "    </tr>\n",
       "    <tr>\n",
       "      <th>384</th>\n",
       "      <td>-0.857492</td>\n",
       "      <td>0.170676</td>\n",
       "    </tr>\n",
       "    <tr>\n",
       "      <th>385</th>\n",
       "      <td>-0.111482</td>\n",
       "      <td>-0.372269</td>\n",
       "    </tr>\n",
       "    <tr>\n",
       "      <th>386</th>\n",
       "      <td>-0.544005</td>\n",
       "      <td>0.356612</td>\n",
       "    </tr>\n",
       "    <tr>\n",
       "      <th>387</th>\n",
       "      <td>-0.504195</td>\n",
       "      <td>-0.174910</td>\n",
       "    </tr>\n",
       "    <tr>\n",
       "      <th>388</th>\n",
       "      <td>-0.141734</td>\n",
       "      <td>-0.140872</td>\n",
       "    </tr>\n",
       "    <tr>\n",
       "      <th>389</th>\n",
       "      <td>-0.540283</td>\n",
       "      <td>-0.349041</td>\n",
       "    </tr>\n",
       "    <tr>\n",
       "      <th>390</th>\n",
       "      <td>-0.906566</td>\n",
       "      <td>-0.252845</td>\n",
       "    </tr>\n",
       "    <tr>\n",
       "      <th>391</th>\n",
       "      <td>-0.060861</td>\n",
       "      <td>-0.037881</td>\n",
       "    </tr>\n",
       "    <tr>\n",
       "      <th>392</th>\n",
       "      <td>-0.902980</td>\n",
       "      <td>-0.642731</td>\n",
       "    </tr>\n",
       "    <tr>\n",
       "      <th>393</th>\n",
       "      <td>-0.248793</td>\n",
       "      <td>-0.162931</td>\n",
       "    </tr>\n",
       "    <tr>\n",
       "      <th>394</th>\n",
       "      <td>-0.506419</td>\n",
       "      <td>-0.308717</td>\n",
       "    </tr>\n",
       "  </tbody>\n",
       "</table>\n",
       "<p>395 rows × 2 columns</p>\n",
       "</div>"
      ],
      "text/plain": [
       "      Factor1   Factor2\n",
       "0   -0.308567  0.360803\n",
       "1   -0.369652 -0.348002\n",
       "2   -0.493007 -0.292253\n",
       "3    0.725756  0.055269\n",
       "4    0.028389  0.211068\n",
       "5    0.562677  0.101709\n",
       "6    0.193828 -0.121504\n",
       "7   -0.177031  0.416258\n",
       "8    0.941118 -0.128015\n",
       "9    0.692876  0.131064\n",
       "10   0.174331  0.589889\n",
       "11   0.252362 -0.506276\n",
       "12   0.443752  0.480644\n",
       "13   0.160731  0.239469\n",
       "14   0.647878 -0.250317\n",
       "15   0.403141  0.430105\n",
       "16   0.563423  0.345972\n",
       "17   0.065853 -0.058094\n",
       "18  -1.068157  0.144857\n",
       "19   0.017493  0.470112\n",
       "20   0.702538  0.213659\n",
       "21   0.594188  0.367935\n",
       "22   0.537080  0.020971\n",
       "23  -0.041480 -0.196420\n",
       "24   0.239313  0.155943\n",
       "25  -0.449369  0.154719\n",
       "26   0.265877 -0.033193\n",
       "27   0.350964  0.373509\n",
       "28   0.290964  0.204514\n",
       "29  -0.401726  0.642896\n",
       "..        ...       ...\n",
       "365 -0.343437 -0.130793\n",
       "366  0.362544  0.080412\n",
       "367 -0.538325 -0.511182\n",
       "368 -0.015178 -0.170836\n",
       "369  0.023048  0.172022\n",
       "370 -0.334386 -0.215028\n",
       "371 -0.117904 -0.470103\n",
       "372  0.211622 -0.215183\n",
       "373 -0.713628  0.065641\n",
       "374  0.847561 -0.110739\n",
       "375 -0.282691 -0.755146\n",
       "376  0.205948 -0.488861\n",
       "377 -0.249007  0.400271\n",
       "378  0.560147 -0.083492\n",
       "379 -0.258616 -0.046672\n",
       "380  0.330274  0.324032\n",
       "381 -0.556098 -0.240310\n",
       "382  0.090828 -0.131851\n",
       "383 -0.830758 -0.437756\n",
       "384 -0.857492  0.170676\n",
       "385 -0.111482 -0.372269\n",
       "386 -0.544005  0.356612\n",
       "387 -0.504195 -0.174910\n",
       "388 -0.141734 -0.140872\n",
       "389 -0.540283 -0.349041\n",
       "390 -0.906566 -0.252845\n",
       "391 -0.060861 -0.037881\n",
       "392 -0.902980 -0.642731\n",
       "393 -0.248793 -0.162931\n",
       "394 -0.506419 -0.308717\n",
       "\n",
       "[395 rows x 2 columns]"
      ]
     },
     "execution_count": 36,
     "metadata": {},
     "output_type": "execute_result"
    }
   ],
   "source": [
    "#Performing Factor analysis\n",
    "# Create a two-factor model\n",
    "\n",
    "fa_model = skd.FactorAnalysis(n_components=2).fit(math_class_norm.transpose())\n",
    "\n",
    "# # Show the loadings\n",
    "df_loadings = pd.DataFrame(fa_model.components_[:2,:].T, \n",
    "                   index=math_class_norm.index,\n",
    "                   columns=['Factor1', 'Factor2'])\n",
    "df_loadings"
   ]
  },
  {
   "cell_type": "markdown",
   "metadata": {},
   "source": [
    "# Question 5: Clustering- Can math students be grouped in different clusters based on numeric variables?"
   ]
  },
  {
   "cell_type": "markdown",
   "metadata": {},
   "source": [
    "### Conclusion: For this part, I found that both clustering methods gave me similar results: students from the math class can be clustered into two groups where one group is significantly larger than the other. I would say that these students are not easily clustered into distinct groups, especially with the factor analysis I calculated."
   ]
  },
  {
   "cell_type": "markdown",
   "metadata": {},
   "source": [
    "## Hierarchical Clustering\n",
    "### I decided to use both forms of clustering we learned in class to see if results would be consistent. I first created a dataframe of only numerical valuables from the dataframe. I then created a square form distance matrix using Euclidean as my metric (got similar results with cosine) and used single linkage method (got similar results for other linkage methods). Finally, I graphed a dendrogram that showed that there were two clusters created with one being significantly larger than the other."
   ]
  },
  {
   "cell_type": "code",
   "execution_count": 37,
   "metadata": {},
   "outputs": [],
   "source": [
    "#creating a dataframe with numeric data\n",
    "important_variables=math_class[[\"age\",\"Medu\",\"Fedu\",\"traveltime\",\"studytime\",\"failures\",\"famrel\",\"freetime\",\"goout\",\"Dalc\",\"Walc\",\"health\",\"absences\",\"G1\",\"G2\",\"G3\"]]"
   ]
  },
  {
   "cell_type": "code",
   "execution_count": 38,
   "metadata": {},
   "outputs": [
    {
     "data": {
      "text/plain": [
       "(395, 395)"
      ]
     },
     "execution_count": 38,
     "metadata": {},
     "output_type": "execute_result"
    }
   ],
   "source": [
    "#Creating a square form distance matrix\n",
    "dist_xy = spd.squareform(spd.pdist(important_variables,metric='euclidean'))\n",
    "dist_xy.shape"
   ]
  },
  {
   "cell_type": "code",
   "execution_count": 39,
   "metadata": {},
   "outputs": [
    {
     "name": "stderr",
     "output_type": "stream",
     "text": [
      "/anaconda/lib/python3.6/site-packages/ipykernel_launcher.py:2: ClusterWarning: scipy.cluster: The symmetric non-negative hollow observation matrix looks suspiciously like an uncondensed distance matrix\n",
      "  \n"
     ]
    }
   ],
   "source": [
    "#Using Single Linkage Method\n",
    "Z_xy = sph.linkage(dist_xy,method='single')"
   ]
  },
  {
   "cell_type": "code",
   "execution_count": 40,
   "metadata": {},
   "outputs": [
    {
     "data": {
      "text/plain": [
       "<matplotlib.figure.Figure at 0x120773ac8>"
      ]
     },
     "execution_count": 40,
     "metadata": {},
     "output_type": "execute_result"
    },
    {
     "data": {
      "image/png": "[encoded data removed]",
      "text/plain": [
       "<matplotlib.figure.Figure at 0x116f3ae10>"
      ]
     },
     "metadata": {},
     "output_type": "display_data"
    },
    {
     "data": {
      "text/plain": [
       "<matplotlib.figure.Figure at 0x120773ac8>"
      ]
     },
     "metadata": {},
     "output_type": "display_data"
    }
   ],
   "source": [
    "#Creating a dendrogram\n",
    "sph.dendrogram(Z_xy)\n",
    "plt.xlabel('Data Points')\n",
    "plt.ylabel('Distance')\n",
    "plt.suptitle('Dendrogram', \n",
    "             fontweight='bold', fontsize=14);\n",
    "plt.figure(figsize=(30,10))\n",
    "#Seems to create two clusters, one is very small"
   ]
  },
  {
   "cell_type": "code",
   "execution_count": 41,
   "metadata": {},
   "outputs": [
    {
     "name": "stderr",
     "output_type": "stream",
     "text": [
      "/anaconda/lib/python3.6/site-packages/ipykernel_launcher.py:4: SettingWithCopyWarning: \n",
      "A value is trying to be set on a copy of a slice from a DataFrame.\n",
      "Try using .loc[row_indexer,col_indexer] = value instead\n",
      "\n",
      "See the caveats in the documentation: http://pandas.pydata.org/pandas-docs/stable/indexing.html#indexing-view-versus-copy\n",
      "  after removing the cwd from sys.path.\n"
     ]
    }
   ],
   "source": [
    "\n",
    "cluster_labels = sph.fcluster(Z_xy,160,criterion='distance')\n",
    "#Adding Cluster Labels to dataframe\n",
    "important_variables['cluster_label'] = cluster_labels\n"
   ]
  },
  {
   "cell_type": "code",
   "execution_count": 42,
   "metadata": {},
   "outputs": [
    {
     "data": {
      "text/plain": [
       "2    392\n",
       "1      2\n",
       "3      1\n",
       "Name: cluster_label, dtype: int64"
      ]
     },
     "execution_count": 42,
     "metadata": {},
     "output_type": "execute_result"
    }
   ],
   "source": [
    "important_variables['cluster_label'].value_counts()"
   ]
  },
  {
   "cell_type": "markdown",
   "metadata": {},
   "source": [
    "## K-means Clustering to see if I come up with a different result\n",
    "### To find the number of clusters I would need, I used the silhouette plot file you gave us in class and found that two clusters gave me the highest silhouette score. I was slightly disappointed because one cluster was way larger than the other. Supplementary, the two factors I created using Factor Analysis did not do a great job of visualizing the clusters. There is a lot of overlap in the graph."
   ]
  },
  {
   "cell_type": "code",
   "execution_count": 43,
   "metadata": {},
   "outputs": [],
   "source": [
    "important_variablesKmeans=important_variables.iloc[:,:-1]\n",
    "#Getting all columns except for the last one"
   ]
  },
  {
   "cell_type": "code",
   "execution_count": 44,
   "metadata": {},
   "outputs": [],
   "source": [
    "#Openning the plotSilhouette File\n",
    "exec(open('plotSilhouette.py').read())"
   ]
  },
  {
   "cell_type": "code",
   "execution_count": 45,
   "metadata": {},
   "outputs": [
    {
     "name": "stdout",
     "output_type": "stream",
     "text": [
      "For n_clusters = 2 The average silhouette_score is : 0.4259232175008318\n"
     ]
    },
    {
     "data": {
      "image/png": "[encoded data removed]",
      "text/plain": [
       "<matplotlib.figure.Figure at 0x11fa735f8>"
      ]
     },
     "metadata": {},
     "output_type": "display_data"
    }
   ],
   "source": [
    "#2 clusters has the highest silhouette score\n",
    "plotSilhouette(important_variablesKmeans, [2])"
   ]
  },
  {
   "cell_type": "code",
   "execution_count": 46,
   "metadata": {},
   "outputs": [
    {
     "name": "stdout",
     "output_type": "stream",
     "text": [
      "For n_clusters = 3 The average silhouette_score is : 0.29125088860116566\n"
     ]
    },
    {
     "data": {
      "image/png": "[encoded data removed]",
      "text/plain": [
       "<matplotlib.figure.Figure at 0x120743b70>"
      ]
     },
     "metadata": {},
     "output_type": "display_data"
    }
   ],
   "source": [
    "#Not as high\n",
    "plotSilhouette(important_variablesKmeans, [3])"
   ]
  },
  {
   "cell_type": "code",
   "execution_count": 47,
   "metadata": {},
   "outputs": [
    {
     "name": "stdout",
     "output_type": "stream",
     "text": [
      "For n_clusters = 4 The average silhouette_score is : 0.3106392393811293\n"
     ]
    },
    {
     "data": {
      "image/png": "[encoded data removed]",
      "text/plain": [
       "<matplotlib.figure.Figure at 0x1203a0cc0>"
      ]
     },
     "metadata": {},
     "output_type": "display_data"
    }
   ],
   "source": [
    "#Even Lower\n",
    "plotSilhouette(important_variablesKmeans, [4])"
   ]
  },
  {
   "cell_type": "code",
   "execution_count": 48,
   "metadata": {},
   "outputs": [
    {
     "data": {
      "text/plain": [
       "array([1, 1, 1, 1, 1, 1, 1, 1, 1, 1, 1, 1, 1, 1, 1, 1, 1, 1, 0, 1, 1, 1,\n",
       "       1, 1, 1, 0, 1, 1, 1, 0, 1, 1, 1, 1, 1, 1, 1, 1, 1, 1, 0, 1, 1, 1,\n",
       "       0, 1, 0, 1, 1, 1, 1, 1, 1, 1, 1, 1, 1, 1, 1, 1, 1, 1, 1, 1, 1, 1,\n",
       "       1, 1, 1, 0, 1, 1, 1, 1, 0, 1, 1, 1, 1, 0, 1, 1, 1, 1, 1, 1, 1, 1,\n",
       "       0, 0, 1, 1, 1, 1, 1, 1, 1, 1, 1, 1, 0, 1, 1, 0, 1, 1, 1, 1, 1, 1,\n",
       "       1, 1, 1, 1, 1, 1, 1, 1, 0, 1, 1, 1, 1, 0, 1, 1, 1, 1, 1, 1, 1, 1,\n",
       "       0, 0, 1, 1, 1, 1, 1, 1, 1, 1, 1, 1, 1, 1, 1, 1, 1, 1, 1, 1, 1, 1,\n",
       "       1, 1, 1, 1, 1, 1, 1, 1, 1, 1, 1, 0, 1, 1, 1, 1, 1, 1, 1, 1, 1, 1,\n",
       "       1, 1, 1, 1, 1, 1, 1, 0, 0, 0, 1, 1, 1, 1, 1, 1, 0, 1, 1, 1, 1, 1,\n",
       "       0, 1, 1, 1, 1, 0, 1, 0, 1, 1, 1, 1, 1, 0, 1, 0, 0, 1, 0, 0, 1, 1,\n",
       "       1, 1, 1, 1, 1, 0, 1, 1, 0, 1, 0, 1, 0, 1, 0, 1, 1, 0, 1, 1, 0, 1,\n",
       "       1, 1, 1, 1, 1, 0, 1, 1, 1, 1, 1, 1, 1, 1, 1, 0, 1, 1, 0, 1, 1, 1,\n",
       "       1, 0, 1, 1, 1, 1, 0, 1, 1, 1, 1, 1, 0, 0, 0, 1, 0, 0, 1, 1, 1, 1,\n",
       "       1, 1, 1, 1, 1, 1, 0, 1, 1, 1, 1, 1, 1, 1, 0, 1, 1, 1, 0, 1, 1, 0,\n",
       "       1, 0, 1, 0, 1, 0, 0, 0, 1, 1, 1, 1, 0, 0, 1, 1, 1, 1, 1, 1, 1, 1,\n",
       "       1, 1, 1, 1, 1, 0, 0, 1, 1, 1, 1, 1, 1, 1, 1, 1, 1, 1, 1, 1, 1, 1,\n",
       "       1, 1, 1, 1, 1, 1, 1, 1, 1, 1, 1, 1, 1, 1, 1, 1, 1, 1, 1, 1, 1, 0,\n",
       "       1, 1, 1, 1, 1, 0, 1, 1, 1, 1, 0, 1, 1, 1, 1, 1, 0, 1, 1, 1, 1],\n",
       "      dtype=int32)"
      ]
     },
     "execution_count": 48,
     "metadata": {},
     "output_type": "execute_result"
    }
   ],
   "source": [
    "#Performing K Means Clustering for two clusters\n",
    "kmeans_model = skc.KMeans(n_clusters=2)\n",
    "kmeans_model.fit(important_variables)\n",
    "kmeans_model.labels_ #The labels"
   ]
  },
  {
   "cell_type": "code",
   "execution_count": 49,
   "metadata": {},
   "outputs": [
    {
     "name": "stderr",
     "output_type": "stream",
     "text": [
      "/anaconda/lib/python3.6/site-packages/ipykernel_launcher.py:2: SettingWithCopyWarning: \n",
      "A value is trying to be set on a copy of a slice from a DataFrame.\n",
      "Try using .loc[row_indexer,col_indexer] = value instead\n",
      "\n",
      "See the caveats in the documentation: http://pandas.pydata.org/pandas-docs/stable/indexing.html#indexing-view-versus-copy\n",
      "  \n"
     ]
    }
   ],
   "source": [
    "#Adding a column for the kmeans model\n",
    "important_variables['cluster_labels_kmeans'] = kmeans_model.labels_"
   ]
  },
  {
   "cell_type": "code",
   "execution_count": 50,
   "metadata": {},
   "outputs": [
    {
     "name": "stderr",
     "output_type": "stream",
     "text": [
      "/anaconda/lib/python3.6/site-packages/ipykernel_launcher.py:2: SettingWithCopyWarning: \n",
      "A value is trying to be set on a copy of a slice from a DataFrame.\n",
      "Try using .loc[row_indexer,col_indexer] = value instead\n",
      "\n",
      "See the caveats in the documentation: http://pandas.pydata.org/pandas-docs/stable/indexing.html#indexing-view-versus-copy\n",
      "  \n",
      "/anaconda/lib/python3.6/site-packages/ipykernel_launcher.py:3: SettingWithCopyWarning: \n",
      "A value is trying to be set on a copy of a slice from a DataFrame.\n",
      "Try using .loc[row_indexer,col_indexer] = value instead\n",
      "\n",
      "See the caveats in the documentation: http://pandas.pydata.org/pandas-docs/stable/indexing.html#indexing-view-versus-copy\n",
      "  This is separate from the ipykernel package so we can avoid doing imports until\n"
     ]
    }
   ],
   "source": [
    "#Adding in the factors I did earlier in then notebook\n",
    "important_variables['Factor1'] = df_loadings.iloc[:,0]\n",
    "important_variables['Factor2'] = df_loadings.iloc[:,1]"
   ]
  },
  {
   "cell_type": "code",
   "execution_count": 51,
   "metadata": {},
   "outputs": [
    {
     "data": {
      "text/plain": [
       "1    331\n",
       "0     64\n",
       "Name: cluster_labels_kmeans, dtype: int64"
      ]
     },
     "execution_count": 51,
     "metadata": {},
     "output_type": "execute_result"
    }
   ],
   "source": [
    "important_variables['cluster_labels_kmeans'].value_counts()"
   ]
  },
  {
   "cell_type": "code",
   "execution_count": 52,
   "metadata": {},
   "outputs": [
    {
     "data": {
      "image/png": "[encoded data removed]",
      "text/plain": [
       "<matplotlib.figure.Figure at 0x120367588>"
      ]
     },
     "metadata": {},
     "output_type": "display_data"
    }
   ],
   "source": [
    "#Visualzing the points along the two Factors I created. Clearly these Factors are not great for visualizing the clusters.\n",
    "f = sns.lmplot(x='Factor1', y='Factor2', data=important_variables, \n",
    "               hue='cluster_labels_kmeans',\n",
    "               fit_reg=False)\n",
    "plt.title(' k-means (k=2) Displayed with Factor Analysis', \n",
    "          fontsize=15);"
   ]
  },
  {
   "cell_type": "markdown",
   "metadata": {},
   "source": [
    "# Question 6: Can I predict if a student in the Portuguese Class has family support using a classification algorithm?"
   ]
  },
  {
   "cell_type": "markdown",
   "metadata": {},
   "source": [
    "### Conclusion: For this part, I used both the Random Forests and Naive Bayes algorithms to make predictions. I found below average success for both when comparing my accuracy scores to the baseline.  However, the Naive Bayes was slightly better. Nonetheless, I would say the answer to this question is no, neither were great at predicting family education support.\n",
    "### Before plugging any data into these classifiers, I Z-Scored the data. I wanted to make sure that all data units looked the same. To decide what variables I would use for both models, I grouped the students into two groups: one where students have family support, and one where they do not. I then averaged all variables for both groups and subtracted the means between the two groups. Whichever variables had absolute differences above .1 are the ones I included in my model. The variables that I ended up including were G3, Walc, studytime, Fedu, age, and Medu.\n",
    "### I split the dataframe into a training and testing set. 70% of the original data is in the training set.\n",
    "### I ran a for loop that indicated to me the depth and number of estimators that would give me the best accuracy score for the Random Forests model.\n",
    "### I fit both models, and evaluated them using a 10-fold cross validation. I also plotted a confusion matrix for both of them. I found results that were slightly better than the baseline for Naive Bayes."
   ]
  },
  {
   "cell_type": "code",
   "execution_count": 53,
   "metadata": {},
   "outputs": [
    {
     "data": {
      "text/plain": [
       "yes    398\n",
       "no     251\n",
       "Name: famsup, dtype: int64"
      ]
     },
     "execution_count": 53,
     "metadata": {},
     "output_type": "execute_result"
    }
   ],
   "source": [
    "#The amount of students with family support in Portuguese Class\n",
    "#baseline\n",
    "port_class.famsup.value_counts()"
   ]
  },
  {
   "cell_type": "code",
   "execution_count": 54,
   "metadata": {},
   "outputs": [
    {
     "name": "stdout",
     "output_type": "stream",
     "text": [
      "Percentage of students with family support is 61.23076923076923%\n"
     ]
    }
   ],
   "source": [
    "#Calculating the baseline\n",
    "print(\"Percentage of students with family support is {}%\".format(398/650*100))"
   ]
  },
  {
   "cell_type": "code",
   "execution_count": 55,
   "metadata": {},
   "outputs": [
    {
     "data": {
      "text/plain": [
       "<matplotlib.text.Text at 0x116ce9860>"
      ]
     },
     "execution_count": 55,
     "metadata": {},
     "output_type": "execute_result"
    },
    {
     "data": {
      "image/png": "[encoded data removed]",
      "text/plain": [
       "<matplotlib.figure.Figure at 0x1205969b0>"
      ]
     },
     "metadata": {},
     "output_type": "display_data"
    }
   ],
   "source": [
    "#Using a boxplot to visualize the G3 distributions for different family support answers\n",
    "sns.boxplot(x=\"famsup\",y=\"G3\",data=port_class).set_title(\"Boxplot of G3 scores between different levels of Family Support \")"
   ]
  },
  {
   "cell_type": "code",
   "execution_count": 56,
   "metadata": {},
   "outputs": [],
   "source": [
    "#Function that Z-Score Normalizes the data\n",
    "def z_score(x):\n",
    "    for b in x.describe().columns:\n",
    "        \n",
    "        mean=np.mean(x[b])\n",
    "        \n",
    "        std=np.std(x[b])\n",
    "        x[b]=(x[b]-mean)/std\n",
    "    return(x)  "
   ]
  },
  {
   "cell_type": "code",
   "execution_count": 57,
   "metadata": {},
   "outputs": [],
   "source": [
    "\n",
    "port_classZ=z_score(port_class)"
   ]
  },
  {
   "cell_type": "code",
   "execution_count": 58,
   "metadata": {},
   "outputs": [
    {
     "data": {
      "text/plain": [
       "age           0.209226\n",
       "Medu          0.247413\n",
       "Fedu          0.277596\n",
       "traveltime    0.080675\n",
       "studytime     0.294677\n",
       "failures      0.014337\n",
       "famrel        0.031268\n",
       "freetime      0.007730\n",
       "goout         0.035445\n",
       "Dalc          0.034587\n",
       "Walc          0.134711\n",
       "health        0.038610\n",
       "absences      0.086201\n",
       "G1            0.078552\n",
       "G2            0.078317\n",
       "G3            0.121571\n",
       "dtype: float64"
      ]
     },
     "execution_count": 58,
     "metadata": {},
     "output_type": "execute_result"
    }
   ],
   "source": [
    "# Using groupby to separate the mean of variables for different family support measures\n",
    "famsup_means=port_classZ.groupby(\"famsup\").mean()\n",
    "famsup_means.apply(func=lambda x: abs(x.loc[\"no\"]-x.loc[\"yes\"]),axis=0)\n"
   ]
  },
  {
   "cell_type": "code",
   "execution_count": 59,
   "metadata": {},
   "outputs": [],
   "source": [
    "#Creating a dataframe of variables with noticeable difference between students from both \n",
    "variables=port_classZ[[\"famsup\",\"G3\",\"Walc\",\"studytime\",\"Fedu\",\"age\",\"Medu\"]]"
   ]
  },
  {
   "cell_type": "code",
   "execution_count": 60,
   "metadata": {},
   "outputs": [],
   "source": [
    "#Creating a training, test dataframe\n",
    "msk = np.random.rand(len(variables)) < 0.7\n",
    "df_port_train = variables[msk]\n",
    "df_port_test = variables[~msk]"
   ]
  },
  {
   "cell_type": "markdown",
   "metadata": {},
   "source": [
    "## Random Forest Model"
   ]
  },
  {
   "cell_type": "code",
   "execution_count": 61,
   "metadata": {},
   "outputs": [
    {
     "name": "stdout",
     "output_type": "stream",
     "text": [
      "[35, 14, 0.6555555555555556]\n"
     ]
    }
   ],
   "source": [
    "#Random Forest Model\n",
    "#Seeing what the optimal number of estimators and max_depth of my tree is\n",
    "n=5\n",
    "b=5\n",
    "best = [0,0,0]\n",
    "for n_est in range(5,100,5):\n",
    "    for depth in range(2,20,2):\n",
    "        clf = skens.RandomForestClassifier(n_estimators=n_est, max_depth=depth)\n",
    "        clf.fit(df_port_train.iloc[:,1:], df_port_train.famsup)\n",
    "\n",
    "        test_predicted= clf.predict(df_port_test.iloc[:,1:])\n",
    "        ac = skmetric.accuracy_score(df_port_test.famsup, test_predicted)\n",
    "        if ac > best[2]:\n",
    "            best[0] = n_est\n",
    "            best[1] = depth\n",
    "            best[2] = ac\n",
    "print (best)"
   ]
  },
  {
   "cell_type": "code",
   "execution_count": 62,
   "metadata": {},
   "outputs": [
    {
     "data": {
      "text/plain": [
       "RandomForestClassifier(bootstrap=True, class_weight=None, criterion='gini',\n",
       "            max_depth=14, max_features='auto', max_leaf_nodes=None,\n",
       "            min_impurity_decrease=0.0, min_impurity_split=None,\n",
       "            min_samples_leaf=1, min_samples_split=2,\n",
       "            min_weight_fraction_leaf=0.0, n_estimators=35, n_jobs=1,\n",
       "            oob_score=False, random_state=None, verbose=0,\n",
       "            warm_start=False)"
      ]
     },
     "execution_count": 62,
     "metadata": {},
     "output_type": "execute_result"
    }
   ],
   "source": [
    "#Fitting the model\n",
    "rf_model = skens.RandomForestClassifier(n_estimators=best[0], max_depth=best[1])\n",
    "rf_model.fit(df_port_train.iloc[:,1:],df_port_train.famsup)"
   ]
  },
  {
   "cell_type": "code",
   "execution_count": 63,
   "metadata": {},
   "outputs": [],
   "source": [
    "# Predicting Labels\n",
    "predicted_labels = rf_model.predict(df_port_test.iloc[:,1:])"
   ]
  },
  {
   "cell_type": "code",
   "execution_count": 64,
   "metadata": {},
   "outputs": [
    {
     "data": {
      "text/plain": [
       "0.6222222222222222"
      ]
     },
     "execution_count": 64,
     "metadata": {},
     "output_type": "execute_result"
    }
   ],
   "source": [
    "#Calculating an accuracy Score\n",
    "skmetric.accuracy_score(y_true=df_port_test[\"famsup\"],y_pred=predicted_labels)"
   ]
  },
  {
   "cell_type": "code",
   "execution_count": 65,
   "metadata": {},
   "outputs": [
    {
     "data": {
      "text/plain": [
       "<matplotlib.text.Text at 0x120554278>"
      ]
     },
     "execution_count": 65,
     "metadata": {},
     "output_type": "execute_result"
    },
    {
     "data": {
      "image/png": "[encoded data removed]",
      "text/plain": [
       "<matplotlib.figure.Figure at 0x120590ba8>"
      ]
     },
     "metadata": {},
     "output_type": "display_data"
    }
   ],
   "source": [
    "# Creating a Confusing Matrix for Random Forest\n",
    "random_forest=confusion_matrix(df_port_test[\"famsup\"], predicted_labels)\n",
    "sns.heatmap(random_forest).set_title(\"Confusion Matrix For Random Forest\")"
   ]
  },
  {
   "cell_type": "code",
   "execution_count": 66,
   "metadata": {},
   "outputs": [],
   "source": [
    "#List of Cross Validation Metrics\n",
    "measurements=[\"accuracy\",\"f1_micro\",\"f1_macro\",\"precision_macro\",\"precision_micro\",\"recall_macro\",\"recall_micro\"]"
   ]
  },
  {
   "cell_type": "code",
   "execution_count": 67,
   "metadata": {},
   "outputs": [
    {
     "name": "stdout",
     "output_type": "stream",
     "text": [
      "0.5517314976689977\n",
      "0.5639925699300699\n",
      "0.5300578028786465\n",
      "0.5077335684526519\n",
      "0.5748812645687645\n",
      "0.5420448717948718\n",
      "0.571708916083916\n"
     ]
    }
   ],
   "source": [
    "#Performing Cross Validation using all Cross Validation Metrics\n",
    "for measure in measurements:\n",
    "    scores = cross_val_score(rf_model, variables.iloc[:,1:], variables.famsup, cv=10, scoring=measure)\n",
    "    print(scores.mean())"
   ]
  },
  {
   "cell_type": "markdown",
   "metadata": {},
   "source": [
    "### Cross Validation Results here were not good. Some of the results were below the baseline for several measures."
   ]
  },
  {
   "cell_type": "markdown",
   "metadata": {},
   "source": [
    "## Naive Bayes Model"
   ]
  },
  {
   "cell_type": "code",
   "execution_count": 68,
   "metadata": {},
   "outputs": [
    {
     "data": {
      "text/plain": [
       "GaussianNB(priors=None)"
      ]
     },
     "execution_count": 68,
     "metadata": {},
     "output_type": "execute_result"
    }
   ],
   "source": [
    "#Fitting the model\n",
    "gnb_model = sknb.GaussianNB()\n",
    "gnb_model.fit(df_port_train.iloc[:,1:],df_port_train.famsup)"
   ]
  },
  {
   "cell_type": "code",
   "execution_count": 69,
   "metadata": {},
   "outputs": [
    {
     "name": "stderr",
     "output_type": "stream",
     "text": [
      "/anaconda/lib/python3.6/site-packages/ipykernel_launcher.py:3: SettingWithCopyWarning: \n",
      "A value is trying to be set on a copy of a slice from a DataFrame.\n",
      "Try using .loc[row_indexer,col_indexer] = value instead\n",
      "\n",
      "See the caveats in the documentation: http://pandas.pydata.org/pandas-docs/stable/indexing.html#indexing-view-versus-copy\n",
      "  This is separate from the ipykernel package so we can avoid doing imports until\n"
     ]
    }
   ],
   "source": [
    "#Using it predict labels\n",
    "y_pred = gnb_model.predict(df_port_test.iloc[:,1:])\n",
    "df_port_test['predicted_nb_AllFeats'] = y_pred"
   ]
  },
  {
   "cell_type": "code",
   "execution_count": 70,
   "metadata": {},
   "outputs": [
    {
     "data": {
      "text/plain": [
       "0.6"
      ]
     },
     "execution_count": 70,
     "metadata": {},
     "output_type": "execute_result"
    }
   ],
   "source": [
    "#Testing the Accuracy\n",
    "skmetric.accuracy_score(y_true=df_port_test[\"famsup\"],\n",
    "                       y_pred=df_port_test[\"predicted_nb_AllFeats\"])"
   ]
  },
  {
   "cell_type": "code",
   "execution_count": 71,
   "metadata": {},
   "outputs": [
    {
     "data": {
      "text/plain": [
       "<matplotlib.text.Text at 0x120522e10>"
      ]
     },
     "execution_count": 71,
     "metadata": {},
     "output_type": "execute_result"
    },
    {
     "data": {
      "image/png": "[encoded data removed]",
      "text/plain": [
       "<matplotlib.figure.Figure at 0x11fdce048>"
      ]
     },
     "metadata": {},
     "output_type": "display_data"
    }
   ],
   "source": [
    "# Creating a Confusing Matrix for Random Forest\n",
    "naive_bayes=confusion_matrix(df_port_test[\"famsup\"], df_port_test[\"predicted_nb_AllFeats\"])\n",
    "sns.heatmap(naive_bayes).set_title(\"Confusion Matrix For Naive Bayes\")"
   ]
  },
  {
   "cell_type": "code",
   "execution_count": 72,
   "metadata": {},
   "outputs": [
    {
     "name": "stdout",
     "output_type": "stream",
     "text": [
      "0.613201486013986\n",
      "0.613201486013986\n",
      "0.5369642261765762\n",
      "0.5713886327068336\n",
      "0.613201486013986\n",
      "0.5590384615384616\n",
      "0.613201486013986\n"
     ]
    }
   ],
   "source": [
    "#Performing Cross Validation using all metrics\n",
    "for measure in measurements:\n",
    "    scores = cross_val_score(gnb_model, variables.iloc[:,1:], variables.famsup, cv=10, scoring=measure)\n",
    "    print(scores.mean())"
   ]
  },
  {
   "cell_type": "markdown",
   "metadata": {},
   "source": [
    "### The Cross Validation Scores were slightly better for the Bayes model. However, I would still not say it gave me great results."
   ]
  },
  {
   "cell_type": "markdown",
   "metadata": {},
   "source": [
    "# Future Work"
   ]
  },
  {
   "cell_type": "markdown",
   "metadata": {},
   "source": [
    "\n",
    "I feel as though there is a lot of future work that could be done to improve my findings. I\n",
    "would love to see a dataset with the same variables as this one but for a different age group or \n",
    "different class subject. Comparing the results I had with this project with similar work for\n",
    "different age groups or class subject could produce fascinating results.\n",
    "In terms of improving my results for this project, there are several things I could do.\n",
    "Since my residuals for question 3 were not normally distributed I could look into using nonlinear\n",
    "regression methods for the same task in the future. For questions 5 and 6, I could try\n",
    "different clustering/classification methods to try to get better results."
   ]
  }
 ],
 "metadata": {
  "kernelspec": {
   "display_name": "Python 3",
   "language": "python",
   "name": "python3"
  },
  "language_info": {
   "codemirror_mode": {
    "name": "ipython",
    "version": 3
   },
   "file_extension": ".py",
   "mimetype": "text/x-python",
   "name": "python",
   "nbconvert_exporter": "python",
   "pygments_lexer": "ipython3",
   "version": "3.6.5"
  }
 },
 "nbformat": 4,
 "nbformat_minor": 2
}
